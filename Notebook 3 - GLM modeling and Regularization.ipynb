{
 "cells": [
  {
   "cell_type": "markdown",
   "metadata": {},
   "source": [
    "# Import Packages"
   ]
  },
  {
   "cell_type": "code",
   "execution_count": 96,
   "metadata": {},
   "outputs": [],
   "source": [
    "#Load Packages\n",
    "import numpy as np\n",
    "import matplotlib.pyplot as plt\n",
    "import pandas as pd\n",
    "import os as os\n",
    "import requests\n",
    "import io\n",
    "import urllib.request\n",
    "from sklearn.metrics import mean_squared_error\n",
    "from scipy.io import arff\n",
    "%matplotlib inline "
   ]
  },
  {
   "cell_type": "code",
   "execution_count": 97,
   "metadata": {},
   "outputs": [
    {
     "data": {
      "text/plain": [
       "'C:\\\\Users\\\\JM025575\\\\Predictive Models Class\\\\data'"
      ]
     },
     "execution_count": 97,
     "metadata": {},
     "output_type": "execute_result"
    }
   ],
   "source": [
    "%pwd"
   ]
  },
  {
   "cell_type": "code",
   "execution_count": 98,
   "metadata": {},
   "outputs": [
    {
     "name": "stdout",
     "output_type": "stream",
     "text": [
      "C:\\Users\\JM025575\\Predictive Models Class\\data\n"
     ]
    }
   ],
   "source": [
    "cd /Users/JM025575/Predictive Models Class/data"
   ]
  },
  {
   "cell_type": "markdown",
   "metadata": {},
   "source": [
    "# Load Data"
   ]
  },
  {
   "cell_type": "code",
   "execution_count": 99,
   "metadata": {},
   "outputs": [],
   "source": [
    "attrib = pd.read_csv('attributes.csv', delim_whitespace = True)"
   ]
  },
  {
   "cell_type": "code",
   "execution_count": 100,
   "metadata": {},
   "outputs": [
    {
     "data": {
      "text/html": [
       "<div>\n",
       "<style scoped>\n",
       "    .dataframe tbody tr th:only-of-type {\n",
       "        vertical-align: middle;\n",
       "    }\n",
       "\n",
       "    .dataframe tbody tr th {\n",
       "        vertical-align: top;\n",
       "    }\n",
       "\n",
       "    .dataframe thead th {\n",
       "        text-align: right;\n",
       "    }\n",
       "</style>\n",
       "<table border=\"1\" class=\"dataframe\">\n",
       "  <thead>\n",
       "    <tr style=\"text-align: right;\">\n",
       "      <th></th>\n",
       "      <th>state</th>\n",
       "      <th>county</th>\n",
       "      <th>community</th>\n",
       "      <th>communityname</th>\n",
       "      <th>fold</th>\n",
       "      <th>population</th>\n",
       "      <th>householdsize</th>\n",
       "      <th>racepctblack</th>\n",
       "      <th>racePctWhite</th>\n",
       "      <th>racePctAsian</th>\n",
       "      <th>...</th>\n",
       "      <th>LandArea</th>\n",
       "      <th>PopDens</th>\n",
       "      <th>PctUsePubTrans</th>\n",
       "      <th>PolicCars</th>\n",
       "      <th>PolicOperBudg</th>\n",
       "      <th>LemasPctPolicOnPatr</th>\n",
       "      <th>LemasGangUnitDeploy</th>\n",
       "      <th>LemasPctOfficDrugUn</th>\n",
       "      <th>PolicBudgPerPop</th>\n",
       "      <th>ViolentCrimesPerPop</th>\n",
       "    </tr>\n",
       "  </thead>\n",
       "  <tbody>\n",
       "    <tr>\n",
       "      <th>0</th>\n",
       "      <td>8</td>\n",
       "      <td>?</td>\n",
       "      <td>?</td>\n",
       "      <td>Lakewoodcity</td>\n",
       "      <td>1</td>\n",
       "      <td>0.19</td>\n",
       "      <td>0.33</td>\n",
       "      <td>0.02</td>\n",
       "      <td>0.90</td>\n",
       "      <td>0.12</td>\n",
       "      <td>...</td>\n",
       "      <td>0.12</td>\n",
       "      <td>0.26</td>\n",
       "      <td>0.20</td>\n",
       "      <td>0.06</td>\n",
       "      <td>0.04</td>\n",
       "      <td>0.9</td>\n",
       "      <td>0.5</td>\n",
       "      <td>0.32</td>\n",
       "      <td>0.14</td>\n",
       "      <td>0.20</td>\n",
       "    </tr>\n",
       "    <tr>\n",
       "      <th>1</th>\n",
       "      <td>53</td>\n",
       "      <td>?</td>\n",
       "      <td>?</td>\n",
       "      <td>Tukwilacity</td>\n",
       "      <td>1</td>\n",
       "      <td>0.00</td>\n",
       "      <td>0.16</td>\n",
       "      <td>0.12</td>\n",
       "      <td>0.74</td>\n",
       "      <td>0.45</td>\n",
       "      <td>...</td>\n",
       "      <td>0.02</td>\n",
       "      <td>0.12</td>\n",
       "      <td>0.45</td>\n",
       "      <td>?</td>\n",
       "      <td>?</td>\n",
       "      <td>?</td>\n",
       "      <td>?</td>\n",
       "      <td>0.00</td>\n",
       "      <td>?</td>\n",
       "      <td>0.67</td>\n",
       "    </tr>\n",
       "    <tr>\n",
       "      <th>2</th>\n",
       "      <td>24</td>\n",
       "      <td>?</td>\n",
       "      <td>?</td>\n",
       "      <td>Aberdeentown</td>\n",
       "      <td>1</td>\n",
       "      <td>0.00</td>\n",
       "      <td>0.42</td>\n",
       "      <td>0.49</td>\n",
       "      <td>0.56</td>\n",
       "      <td>0.17</td>\n",
       "      <td>...</td>\n",
       "      <td>0.01</td>\n",
       "      <td>0.21</td>\n",
       "      <td>0.02</td>\n",
       "      <td>?</td>\n",
       "      <td>?</td>\n",
       "      <td>?</td>\n",
       "      <td>?</td>\n",
       "      <td>0.00</td>\n",
       "      <td>?</td>\n",
       "      <td>0.43</td>\n",
       "    </tr>\n",
       "    <tr>\n",
       "      <th>3</th>\n",
       "      <td>34</td>\n",
       "      <td>5</td>\n",
       "      <td>81440</td>\n",
       "      <td>Willingborotownship</td>\n",
       "      <td>1</td>\n",
       "      <td>0.04</td>\n",
       "      <td>0.77</td>\n",
       "      <td>1.00</td>\n",
       "      <td>0.08</td>\n",
       "      <td>0.12</td>\n",
       "      <td>...</td>\n",
       "      <td>0.02</td>\n",
       "      <td>0.39</td>\n",
       "      <td>0.28</td>\n",
       "      <td>?</td>\n",
       "      <td>?</td>\n",
       "      <td>?</td>\n",
       "      <td>?</td>\n",
       "      <td>0.00</td>\n",
       "      <td>?</td>\n",
       "      <td>0.12</td>\n",
       "    </tr>\n",
       "    <tr>\n",
       "      <th>4</th>\n",
       "      <td>42</td>\n",
       "      <td>95</td>\n",
       "      <td>6096</td>\n",
       "      <td>Bethlehemtownship</td>\n",
       "      <td>1</td>\n",
       "      <td>0.01</td>\n",
       "      <td>0.55</td>\n",
       "      <td>0.02</td>\n",
       "      <td>0.95</td>\n",
       "      <td>0.09</td>\n",
       "      <td>...</td>\n",
       "      <td>0.04</td>\n",
       "      <td>0.09</td>\n",
       "      <td>0.02</td>\n",
       "      <td>?</td>\n",
       "      <td>?</td>\n",
       "      <td>?</td>\n",
       "      <td>?</td>\n",
       "      <td>0.00</td>\n",
       "      <td>?</td>\n",
       "      <td>0.03</td>\n",
       "    </tr>\n",
       "  </tbody>\n",
       "</table>\n",
       "<p>5 rows × 128 columns</p>\n",
       "</div>"
      ],
      "text/plain": [
       "   state county community        communityname  fold  population  \\\n",
       "0      8      ?         ?         Lakewoodcity     1        0.19   \n",
       "1     53      ?         ?          Tukwilacity     1        0.00   \n",
       "2     24      ?         ?         Aberdeentown     1        0.00   \n",
       "3     34      5     81440  Willingborotownship     1        0.04   \n",
       "4     42     95      6096    Bethlehemtownship     1        0.01   \n",
       "\n",
       "   householdsize  racepctblack  racePctWhite  racePctAsian  \\\n",
       "0           0.33          0.02          0.90          0.12   \n",
       "1           0.16          0.12          0.74          0.45   \n",
       "2           0.42          0.49          0.56          0.17   \n",
       "3           0.77          1.00          0.08          0.12   \n",
       "4           0.55          0.02          0.95          0.09   \n",
       "\n",
       "          ...           LandArea  PopDens  PctUsePubTrans  PolicCars  \\\n",
       "0         ...               0.12     0.26            0.20       0.06   \n",
       "1         ...               0.02     0.12            0.45          ?   \n",
       "2         ...               0.01     0.21            0.02          ?   \n",
       "3         ...               0.02     0.39            0.28          ?   \n",
       "4         ...               0.04     0.09            0.02          ?   \n",
       "\n",
       "   PolicOperBudg  LemasPctPolicOnPatr  LemasGangUnitDeploy  \\\n",
       "0           0.04                  0.9                  0.5   \n",
       "1              ?                    ?                    ?   \n",
       "2              ?                    ?                    ?   \n",
       "3              ?                    ?                    ?   \n",
       "4              ?                    ?                    ?   \n",
       "\n",
       "   LemasPctOfficDrugUn  PolicBudgPerPop  ViolentCrimesPerPop  \n",
       "0                 0.32             0.14                 0.20  \n",
       "1                 0.00                ?                 0.67  \n",
       "2                 0.00                ?                 0.43  \n",
       "3                 0.00                ?                 0.12  \n",
       "4                 0.00                ?                 0.03  \n",
       "\n",
       "[5 rows x 128 columns]"
      ]
     },
     "execution_count": 100,
     "metadata": {},
     "output_type": "execute_result"
    }
   ],
   "source": [
    "url = 'http://archive.ics.uci.edu/ml/machine-learning-databases/communities/communities.data'\n",
    "crime = pd.read_csv(url, names = attrib['attributes'])\n",
    "crime.head()"
   ]
  },
  {
   "cell_type": "code",
   "execution_count": 101,
   "metadata": {},
   "outputs": [
    {
     "data": {
      "text/plain": [
       "['state',\n",
       " 'county',\n",
       " 'community',\n",
       " 'communityname',\n",
       " 'fold',\n",
       " 'population',\n",
       " 'householdsize',\n",
       " 'racepctblack',\n",
       " 'racePctWhite',\n",
       " 'racePctAsian',\n",
       " 'racePctHisp',\n",
       " 'agePct12t21',\n",
       " 'agePct12t29',\n",
       " 'agePct16t24',\n",
       " 'agePct65up',\n",
       " 'numbUrban',\n",
       " 'pctUrban',\n",
       " 'medIncome',\n",
       " 'pctWWage',\n",
       " 'pctWFarmSelf',\n",
       " 'pctWInvInc',\n",
       " 'pctWSocSec',\n",
       " 'pctWPubAsst',\n",
       " 'pctWRetire',\n",
       " 'medFamInc',\n",
       " 'perCapInc',\n",
       " 'whitePerCap',\n",
       " 'blackPerCap',\n",
       " 'indianPerCap',\n",
       " 'AsianPerCap',\n",
       " 'OtherPerCap',\n",
       " 'HispPerCap',\n",
       " 'NumUnderPov',\n",
       " 'PctPopUnderPov',\n",
       " 'PctLess9thGrade',\n",
       " 'PctNotHSGrad',\n",
       " 'PctBSorMore',\n",
       " 'PctUnemployed',\n",
       " 'PctEmploy',\n",
       " 'PctEmplManu',\n",
       " 'PctEmplProfServ',\n",
       " 'PctOccupManu',\n",
       " 'PctOccupMgmtProf',\n",
       " 'MalePctDivorce',\n",
       " 'MalePctNevMarr',\n",
       " 'FemalePctDiv',\n",
       " 'TotalPctDiv',\n",
       " 'PersPerFam',\n",
       " 'PctFam2Par',\n",
       " 'PctKids2Par',\n",
       " 'PctYoungKids2Par',\n",
       " 'PctTeen2Par',\n",
       " 'PctWorkMomYoungKids',\n",
       " 'PctWorkMom',\n",
       " 'NumIlleg',\n",
       " 'PctIlleg',\n",
       " 'NumImmig',\n",
       " 'PctImmigRecent',\n",
       " 'PctImmigRec5',\n",
       " 'PctImmigRec8',\n",
       " 'PctImmigRec10',\n",
       " 'PctRecentImmig',\n",
       " 'PctRecImmig5',\n",
       " 'PctRecImmig8',\n",
       " 'PctRecImmig10',\n",
       " 'PctSpeakEnglOnly',\n",
       " 'PctNotSpeakEnglWell',\n",
       " 'PctLargHouseFam',\n",
       " 'PctLargHouseOccup',\n",
       " 'PersPerOccupHous',\n",
       " 'PersPerOwnOccHous',\n",
       " 'PersPerRentOccHous',\n",
       " 'PctPersOwnOccup',\n",
       " 'PctPersDenseHous',\n",
       " 'PctHousLess3BR',\n",
       " 'MedNumBR',\n",
       " 'HousVacant',\n",
       " 'PctHousOccup',\n",
       " 'PctHousOwnOcc',\n",
       " 'PctVacantBoarded',\n",
       " 'PctVacMore6Mos',\n",
       " 'MedYrHousBuilt',\n",
       " 'PctHousNoPhone',\n",
       " 'PctWOFullPlumb',\n",
       " 'OwnOccLowQuart',\n",
       " 'OwnOccMedVal',\n",
       " 'OwnOccHiQuart',\n",
       " 'RentLowQ',\n",
       " 'RentMedian',\n",
       " 'RentHighQ',\n",
       " 'MedRent',\n",
       " 'MedRentPctHousInc',\n",
       " 'MedOwnCostPctInc',\n",
       " 'MedOwnCostPctIncNoMtg',\n",
       " 'NumInShelters',\n",
       " 'NumStreet',\n",
       " 'PctForeignBorn',\n",
       " 'PctBornSameState',\n",
       " 'PctSameHouse85',\n",
       " 'PctSameCity85',\n",
       " 'PctSameState85',\n",
       " 'LemasSwornFT',\n",
       " 'LemasSwFTPerPop',\n",
       " 'LemasSwFTFieldOps',\n",
       " 'LemasSwFTFieldPerPop',\n",
       " 'LemasTotalReq',\n",
       " 'LemasTotReqPerPop',\n",
       " 'PolicReqPerOffic',\n",
       " 'PolicPerPop',\n",
       " 'RacialMatchCommPol',\n",
       " 'PctPolicWhite',\n",
       " 'PctPolicBlack',\n",
       " 'PctPolicHisp',\n",
       " 'PctPolicAsian',\n",
       " 'PctPolicMinor',\n",
       " 'OfficAssgnDrugUnits',\n",
       " 'NumKindsDrugsSeiz',\n",
       " 'PolicAveOTWorked',\n",
       " 'LandArea',\n",
       " 'PopDens',\n",
       " 'PctUsePubTrans',\n",
       " 'PolicCars',\n",
       " 'PolicOperBudg',\n",
       " 'LemasPctPolicOnPatr',\n",
       " 'LemasGangUnitDeploy',\n",
       " 'LemasPctOfficDrugUn',\n",
       " 'PolicBudgPerPop',\n",
       " 'ViolentCrimesPerPop']"
      ]
     },
     "execution_count": 101,
     "metadata": {},
     "output_type": "execute_result"
    }
   ],
   "source": [
    "crime.columns.tolist()"
   ]
  },
  {
   "cell_type": "code",
   "execution_count": 102,
   "metadata": {},
   "outputs": [],
   "source": [
    "#getting rid of features I do not think have predictive power\n",
    "crime = crime.drop(['state','county','community','communityname','fold'], axis=1)"
   ]
  },
  {
   "cell_type": "code",
   "execution_count": 103,
   "metadata": {},
   "outputs": [
    {
     "data": {
      "text/html": [
       "<div>\n",
       "<style scoped>\n",
       "    .dataframe tbody tr th:only-of-type {\n",
       "        vertical-align: middle;\n",
       "    }\n",
       "\n",
       "    .dataframe tbody tr th {\n",
       "        vertical-align: top;\n",
       "    }\n",
       "\n",
       "    .dataframe thead th {\n",
       "        text-align: right;\n",
       "    }\n",
       "</style>\n",
       "<table border=\"1\" class=\"dataframe\">\n",
       "  <thead>\n",
       "    <tr style=\"text-align: right;\">\n",
       "      <th></th>\n",
       "      <th>population</th>\n",
       "      <th>householdsize</th>\n",
       "      <th>racepctblack</th>\n",
       "      <th>racePctWhite</th>\n",
       "      <th>racePctAsian</th>\n",
       "      <th>racePctHisp</th>\n",
       "      <th>agePct12t21</th>\n",
       "      <th>agePct12t29</th>\n",
       "      <th>agePct16t24</th>\n",
       "      <th>agePct65up</th>\n",
       "      <th>...</th>\n",
       "      <th>LandArea</th>\n",
       "      <th>PopDens</th>\n",
       "      <th>PctUsePubTrans</th>\n",
       "      <th>PolicCars</th>\n",
       "      <th>PolicOperBudg</th>\n",
       "      <th>LemasPctPolicOnPatr</th>\n",
       "      <th>LemasGangUnitDeploy</th>\n",
       "      <th>LemasPctOfficDrugUn</th>\n",
       "      <th>PolicBudgPerPop</th>\n",
       "      <th>ViolentCrimesPerPop</th>\n",
       "    </tr>\n",
       "  </thead>\n",
       "  <tbody>\n",
       "    <tr>\n",
       "      <th>0</th>\n",
       "      <td>0.19</td>\n",
       "      <td>0.33</td>\n",
       "      <td>0.02</td>\n",
       "      <td>0.90</td>\n",
       "      <td>0.12</td>\n",
       "      <td>0.17</td>\n",
       "      <td>0.34</td>\n",
       "      <td>0.47</td>\n",
       "      <td>0.29</td>\n",
       "      <td>0.32</td>\n",
       "      <td>...</td>\n",
       "      <td>0.12</td>\n",
       "      <td>0.26</td>\n",
       "      <td>0.20</td>\n",
       "      <td>0.06</td>\n",
       "      <td>0.04</td>\n",
       "      <td>0.9</td>\n",
       "      <td>0.5</td>\n",
       "      <td>0.32</td>\n",
       "      <td>0.14</td>\n",
       "      <td>0.20</td>\n",
       "    </tr>\n",
       "    <tr>\n",
       "      <th>1</th>\n",
       "      <td>0.00</td>\n",
       "      <td>0.16</td>\n",
       "      <td>0.12</td>\n",
       "      <td>0.74</td>\n",
       "      <td>0.45</td>\n",
       "      <td>0.07</td>\n",
       "      <td>0.26</td>\n",
       "      <td>0.59</td>\n",
       "      <td>0.35</td>\n",
       "      <td>0.27</td>\n",
       "      <td>...</td>\n",
       "      <td>0.02</td>\n",
       "      <td>0.12</td>\n",
       "      <td>0.45</td>\n",
       "      <td>?</td>\n",
       "      <td>?</td>\n",
       "      <td>?</td>\n",
       "      <td>?</td>\n",
       "      <td>0.00</td>\n",
       "      <td>?</td>\n",
       "      <td>0.67</td>\n",
       "    </tr>\n",
       "    <tr>\n",
       "      <th>2</th>\n",
       "      <td>0.00</td>\n",
       "      <td>0.42</td>\n",
       "      <td>0.49</td>\n",
       "      <td>0.56</td>\n",
       "      <td>0.17</td>\n",
       "      <td>0.04</td>\n",
       "      <td>0.39</td>\n",
       "      <td>0.47</td>\n",
       "      <td>0.28</td>\n",
       "      <td>0.32</td>\n",
       "      <td>...</td>\n",
       "      <td>0.01</td>\n",
       "      <td>0.21</td>\n",
       "      <td>0.02</td>\n",
       "      <td>?</td>\n",
       "      <td>?</td>\n",
       "      <td>?</td>\n",
       "      <td>?</td>\n",
       "      <td>0.00</td>\n",
       "      <td>?</td>\n",
       "      <td>0.43</td>\n",
       "    </tr>\n",
       "    <tr>\n",
       "      <th>3</th>\n",
       "      <td>0.04</td>\n",
       "      <td>0.77</td>\n",
       "      <td>1.00</td>\n",
       "      <td>0.08</td>\n",
       "      <td>0.12</td>\n",
       "      <td>0.10</td>\n",
       "      <td>0.51</td>\n",
       "      <td>0.50</td>\n",
       "      <td>0.34</td>\n",
       "      <td>0.21</td>\n",
       "      <td>...</td>\n",
       "      <td>0.02</td>\n",
       "      <td>0.39</td>\n",
       "      <td>0.28</td>\n",
       "      <td>?</td>\n",
       "      <td>?</td>\n",
       "      <td>?</td>\n",
       "      <td>?</td>\n",
       "      <td>0.00</td>\n",
       "      <td>?</td>\n",
       "      <td>0.12</td>\n",
       "    </tr>\n",
       "    <tr>\n",
       "      <th>4</th>\n",
       "      <td>0.01</td>\n",
       "      <td>0.55</td>\n",
       "      <td>0.02</td>\n",
       "      <td>0.95</td>\n",
       "      <td>0.09</td>\n",
       "      <td>0.05</td>\n",
       "      <td>0.38</td>\n",
       "      <td>0.38</td>\n",
       "      <td>0.23</td>\n",
       "      <td>0.36</td>\n",
       "      <td>...</td>\n",
       "      <td>0.04</td>\n",
       "      <td>0.09</td>\n",
       "      <td>0.02</td>\n",
       "      <td>?</td>\n",
       "      <td>?</td>\n",
       "      <td>?</td>\n",
       "      <td>?</td>\n",
       "      <td>0.00</td>\n",
       "      <td>?</td>\n",
       "      <td>0.03</td>\n",
       "    </tr>\n",
       "  </tbody>\n",
       "</table>\n",
       "<p>5 rows × 123 columns</p>\n",
       "</div>"
      ],
      "text/plain": [
       "   population  householdsize  racepctblack  racePctWhite  racePctAsian  \\\n",
       "0        0.19           0.33          0.02          0.90          0.12   \n",
       "1        0.00           0.16          0.12          0.74          0.45   \n",
       "2        0.00           0.42          0.49          0.56          0.17   \n",
       "3        0.04           0.77          1.00          0.08          0.12   \n",
       "4        0.01           0.55          0.02          0.95          0.09   \n",
       "\n",
       "   racePctHisp  agePct12t21  agePct12t29  agePct16t24  agePct65up  \\\n",
       "0         0.17         0.34         0.47         0.29        0.32   \n",
       "1         0.07         0.26         0.59         0.35        0.27   \n",
       "2         0.04         0.39         0.47         0.28        0.32   \n",
       "3         0.10         0.51         0.50         0.34        0.21   \n",
       "4         0.05         0.38         0.38         0.23        0.36   \n",
       "\n",
       "          ...           LandArea  PopDens  PctUsePubTrans  PolicCars  \\\n",
       "0         ...               0.12     0.26            0.20       0.06   \n",
       "1         ...               0.02     0.12            0.45          ?   \n",
       "2         ...               0.01     0.21            0.02          ?   \n",
       "3         ...               0.02     0.39            0.28          ?   \n",
       "4         ...               0.04     0.09            0.02          ?   \n",
       "\n",
       "   PolicOperBudg  LemasPctPolicOnPatr  LemasGangUnitDeploy  \\\n",
       "0           0.04                  0.9                  0.5   \n",
       "1              ?                    ?                    ?   \n",
       "2              ?                    ?                    ?   \n",
       "3              ?                    ?                    ?   \n",
       "4              ?                    ?                    ?   \n",
       "\n",
       "   LemasPctOfficDrugUn  PolicBudgPerPop  ViolentCrimesPerPop  \n",
       "0                 0.32             0.14                 0.20  \n",
       "1                 0.00                ?                 0.67  \n",
       "2                 0.00                ?                 0.43  \n",
       "3                 0.00                ?                 0.12  \n",
       "4                 0.00                ?                 0.03  \n",
       "\n",
       "[5 rows x 123 columns]"
      ]
     },
     "execution_count": 103,
     "metadata": {},
     "output_type": "execute_result"
    }
   ],
   "source": [
    "crime.head()"
   ]
  },
  {
   "cell_type": "code",
   "execution_count": 104,
   "metadata": {},
   "outputs": [
    {
     "data": {
      "text/plain": [
       "(1994, 123)"
      ]
     },
     "execution_count": 104,
     "metadata": {},
     "output_type": "execute_result"
    }
   ],
   "source": [
    "crime.shape"
   ]
  },
  {
   "cell_type": "code",
   "execution_count": 105,
   "metadata": {},
   "outputs": [
    {
     "data": {
      "text/plain": [
       "count    1994.000000\n",
       "mean        0.237979\n",
       "std         0.232985\n",
       "min         0.000000\n",
       "25%         0.070000\n",
       "50%         0.150000\n",
       "75%         0.330000\n",
       "max         1.000000\n",
       "Name: ViolentCrimesPerPop, dtype: float64"
      ]
     },
     "execution_count": 105,
     "metadata": {},
     "output_type": "execute_result"
    }
   ],
   "source": [
    "#Reviewing basic statistics on my target variable\n",
    "crime['ViolentCrimesPerPop'].describe()"
   ]
  },
  {
   "cell_type": "markdown",
   "metadata": {},
   "source": [
    "## Data Pre-Processing"
   ]
  },
  {
   "cell_type": "code",
   "execution_count": 106,
   "metadata": {},
   "outputs": [],
   "source": [
    "#Replacing the '?' with nan and looking to identify features that have null values\n",
    "crime = crime.replace('?', np.nan)\n",
    "feat_miss = crime.columns[crime.isnull().any()]"
   ]
  },
  {
   "cell_type": "code",
   "execution_count": 107,
   "metadata": {},
   "outputs": [
    {
     "name": "stdout",
     "output_type": "stream",
     "text": [
      "Index(['OtherPerCap', 'LemasSwornFT', 'LemasSwFTPerPop', 'LemasSwFTFieldOps',\n",
      "       'LemasSwFTFieldPerPop', 'LemasTotalReq', 'LemasTotReqPerPop',\n",
      "       'PolicReqPerOffic', 'PolicPerPop', 'RacialMatchCommPol',\n",
      "       'PctPolicWhite', 'PctPolicBlack', 'PctPolicHisp', 'PctPolicAsian',\n",
      "       'PctPolicMinor', 'OfficAssgnDrugUnits', 'NumKindsDrugsSeiz',\n",
      "       'PolicAveOTWorked', 'PolicCars', 'PolicOperBudg', 'LemasPctPolicOnPatr',\n",
      "       'LemasGangUnitDeploy', 'PolicBudgPerPop'],\n",
      "      dtype='object')\n"
     ]
    },
    {
     "data": {
      "text/plain": [
       "(23,)"
      ]
     },
     "execution_count": 107,
     "metadata": {},
     "output_type": "execute_result"
    }
   ],
   "source": [
    "print(feat_miss)\n",
    "feat_miss.shape #23 of the features have missing values"
   ]
  },
  {
   "cell_type": "code",
   "execution_count": 108,
   "metadata": {},
   "outputs": [
    {
     "name": "stdout",
     "output_type": "stream",
     "text": [
      "(1994, 100)\n"
     ]
    },
    {
     "data": {
      "text/html": [
       "<div>\n",
       "<style scoped>\n",
       "    .dataframe tbody tr th:only-of-type {\n",
       "        vertical-align: middle;\n",
       "    }\n",
       "\n",
       "    .dataframe tbody tr th {\n",
       "        vertical-align: top;\n",
       "    }\n",
       "\n",
       "    .dataframe thead th {\n",
       "        text-align: right;\n",
       "    }\n",
       "</style>\n",
       "<table border=\"1\" class=\"dataframe\">\n",
       "  <thead>\n",
       "    <tr style=\"text-align: right;\">\n",
       "      <th></th>\n",
       "      <th>population</th>\n",
       "      <th>householdsize</th>\n",
       "      <th>racepctblack</th>\n",
       "      <th>racePctWhite</th>\n",
       "      <th>racePctAsian</th>\n",
       "      <th>racePctHisp</th>\n",
       "      <th>agePct12t21</th>\n",
       "      <th>agePct12t29</th>\n",
       "      <th>agePct16t24</th>\n",
       "      <th>agePct65up</th>\n",
       "      <th>...</th>\n",
       "      <th>PctForeignBorn</th>\n",
       "      <th>PctBornSameState</th>\n",
       "      <th>PctSameHouse85</th>\n",
       "      <th>PctSameCity85</th>\n",
       "      <th>PctSameState85</th>\n",
       "      <th>LandArea</th>\n",
       "      <th>PopDens</th>\n",
       "      <th>PctUsePubTrans</th>\n",
       "      <th>LemasPctOfficDrugUn</th>\n",
       "      <th>ViolentCrimesPerPop</th>\n",
       "    </tr>\n",
       "  </thead>\n",
       "  <tbody>\n",
       "    <tr>\n",
       "      <th>0</th>\n",
       "      <td>0.19</td>\n",
       "      <td>0.33</td>\n",
       "      <td>0.02</td>\n",
       "      <td>0.90</td>\n",
       "      <td>0.12</td>\n",
       "      <td>0.17</td>\n",
       "      <td>0.34</td>\n",
       "      <td>0.47</td>\n",
       "      <td>0.29</td>\n",
       "      <td>0.32</td>\n",
       "      <td>...</td>\n",
       "      <td>0.12</td>\n",
       "      <td>0.42</td>\n",
       "      <td>0.50</td>\n",
       "      <td>0.51</td>\n",
       "      <td>0.64</td>\n",
       "      <td>0.12</td>\n",
       "      <td>0.26</td>\n",
       "      <td>0.20</td>\n",
       "      <td>0.32</td>\n",
       "      <td>0.20</td>\n",
       "    </tr>\n",
       "    <tr>\n",
       "      <th>1</th>\n",
       "      <td>0.00</td>\n",
       "      <td>0.16</td>\n",
       "      <td>0.12</td>\n",
       "      <td>0.74</td>\n",
       "      <td>0.45</td>\n",
       "      <td>0.07</td>\n",
       "      <td>0.26</td>\n",
       "      <td>0.59</td>\n",
       "      <td>0.35</td>\n",
       "      <td>0.27</td>\n",
       "      <td>...</td>\n",
       "      <td>0.21</td>\n",
       "      <td>0.50</td>\n",
       "      <td>0.34</td>\n",
       "      <td>0.60</td>\n",
       "      <td>0.52</td>\n",
       "      <td>0.02</td>\n",
       "      <td>0.12</td>\n",
       "      <td>0.45</td>\n",
       "      <td>0.00</td>\n",
       "      <td>0.67</td>\n",
       "    </tr>\n",
       "    <tr>\n",
       "      <th>2</th>\n",
       "      <td>0.00</td>\n",
       "      <td>0.42</td>\n",
       "      <td>0.49</td>\n",
       "      <td>0.56</td>\n",
       "      <td>0.17</td>\n",
       "      <td>0.04</td>\n",
       "      <td>0.39</td>\n",
       "      <td>0.47</td>\n",
       "      <td>0.28</td>\n",
       "      <td>0.32</td>\n",
       "      <td>...</td>\n",
       "      <td>0.14</td>\n",
       "      <td>0.49</td>\n",
       "      <td>0.54</td>\n",
       "      <td>0.67</td>\n",
       "      <td>0.56</td>\n",
       "      <td>0.01</td>\n",
       "      <td>0.21</td>\n",
       "      <td>0.02</td>\n",
       "      <td>0.00</td>\n",
       "      <td>0.43</td>\n",
       "    </tr>\n",
       "    <tr>\n",
       "      <th>3</th>\n",
       "      <td>0.04</td>\n",
       "      <td>0.77</td>\n",
       "      <td>1.00</td>\n",
       "      <td>0.08</td>\n",
       "      <td>0.12</td>\n",
       "      <td>0.10</td>\n",
       "      <td>0.51</td>\n",
       "      <td>0.50</td>\n",
       "      <td>0.34</td>\n",
       "      <td>0.21</td>\n",
       "      <td>...</td>\n",
       "      <td>0.19</td>\n",
       "      <td>0.30</td>\n",
       "      <td>0.73</td>\n",
       "      <td>0.64</td>\n",
       "      <td>0.65</td>\n",
       "      <td>0.02</td>\n",
       "      <td>0.39</td>\n",
       "      <td>0.28</td>\n",
       "      <td>0.00</td>\n",
       "      <td>0.12</td>\n",
       "    </tr>\n",
       "    <tr>\n",
       "      <th>4</th>\n",
       "      <td>0.01</td>\n",
       "      <td>0.55</td>\n",
       "      <td>0.02</td>\n",
       "      <td>0.95</td>\n",
       "      <td>0.09</td>\n",
       "      <td>0.05</td>\n",
       "      <td>0.38</td>\n",
       "      <td>0.38</td>\n",
       "      <td>0.23</td>\n",
       "      <td>0.36</td>\n",
       "      <td>...</td>\n",
       "      <td>0.11</td>\n",
       "      <td>0.72</td>\n",
       "      <td>0.64</td>\n",
       "      <td>0.61</td>\n",
       "      <td>0.53</td>\n",
       "      <td>0.04</td>\n",
       "      <td>0.09</td>\n",
       "      <td>0.02</td>\n",
       "      <td>0.00</td>\n",
       "      <td>0.03</td>\n",
       "    </tr>\n",
       "  </tbody>\n",
       "</table>\n",
       "<p>5 rows × 100 columns</p>\n",
       "</div>"
      ],
      "text/plain": [
       "   population  householdsize  racepctblack  racePctWhite  racePctAsian  \\\n",
       "0        0.19           0.33          0.02          0.90          0.12   \n",
       "1        0.00           0.16          0.12          0.74          0.45   \n",
       "2        0.00           0.42          0.49          0.56          0.17   \n",
       "3        0.04           0.77          1.00          0.08          0.12   \n",
       "4        0.01           0.55          0.02          0.95          0.09   \n",
       "\n",
       "   racePctHisp  agePct12t21  agePct12t29  agePct16t24  agePct65up  \\\n",
       "0         0.17         0.34         0.47         0.29        0.32   \n",
       "1         0.07         0.26         0.59         0.35        0.27   \n",
       "2         0.04         0.39         0.47         0.28        0.32   \n",
       "3         0.10         0.51         0.50         0.34        0.21   \n",
       "4         0.05         0.38         0.38         0.23        0.36   \n",
       "\n",
       "          ...           PctForeignBorn  PctBornSameState  PctSameHouse85  \\\n",
       "0         ...                     0.12              0.42            0.50   \n",
       "1         ...                     0.21              0.50            0.34   \n",
       "2         ...                     0.14              0.49            0.54   \n",
       "3         ...                     0.19              0.30            0.73   \n",
       "4         ...                     0.11              0.72            0.64   \n",
       "\n",
       "   PctSameCity85  PctSameState85  LandArea  PopDens  PctUsePubTrans  \\\n",
       "0           0.51            0.64      0.12     0.26            0.20   \n",
       "1           0.60            0.52      0.02     0.12            0.45   \n",
       "2           0.67            0.56      0.01     0.21            0.02   \n",
       "3           0.64            0.65      0.02     0.39            0.28   \n",
       "4           0.61            0.53      0.04     0.09            0.02   \n",
       "\n",
       "   LemasPctOfficDrugUn  ViolentCrimesPerPop  \n",
       "0                 0.32                 0.20  \n",
       "1                 0.00                 0.67  \n",
       "2                 0.00                 0.43  \n",
       "3                 0.00                 0.12  \n",
       "4                 0.00                 0.03  \n",
       "\n",
       "[5 rows x 100 columns]"
      ]
     },
     "execution_count": 108,
     "metadata": {},
     "output_type": "execute_result"
    }
   ],
   "source": [
    "#removing features with null values\n",
    "crime = crime.dropna(axis=1)\n",
    "print(crime.shape)\n",
    "crime.head() #go from 123 to 100 features"
   ]
  },
  {
   "cell_type": "code",
   "execution_count": 109,
   "metadata": {},
   "outputs": [
    {
     "name": "stdout",
     "output_type": "stream",
     "text": [
      "(1994,)\n",
      "(1994, 99)\n"
     ]
    },
    {
     "name": "stderr",
     "output_type": "stream",
     "text": [
      "C:\\Users\\JM025575\\AppData\\Local\\Continuum\\anaconda3\\lib\\site-packages\\ipykernel_launcher.py:2: UserWarning: Pandas doesn't allow columns to be created via a new attribute name - see https://pandas.pydata.org/pandas-docs/stable/indexing.html#attribute-access\n",
      "  \n",
      "C:\\Users\\JM025575\\AppData\\Local\\Continuum\\anaconda3\\lib\\site-packages\\ipykernel_launcher.py:3: UserWarning: Pandas doesn't allow columns to be created via a new attribute name - see https://pandas.pydata.org/pandas-docs/stable/indexing.html#attribute-access\n",
      "  This is separate from the ipykernel package so we can avoid doing imports until\n"
     ]
    },
    {
     "data": {
      "text/html": [
       "<div>\n",
       "<style scoped>\n",
       "    .dataframe tbody tr th:only-of-type {\n",
       "        vertical-align: middle;\n",
       "    }\n",
       "\n",
       "    .dataframe tbody tr th {\n",
       "        vertical-align: top;\n",
       "    }\n",
       "\n",
       "    .dataframe thead th {\n",
       "        text-align: right;\n",
       "    }\n",
       "</style>\n",
       "<table border=\"1\" class=\"dataframe\">\n",
       "  <thead>\n",
       "    <tr style=\"text-align: right;\">\n",
       "      <th></th>\n",
       "      <th>population</th>\n",
       "      <th>householdsize</th>\n",
       "      <th>racepctblack</th>\n",
       "      <th>racePctWhite</th>\n",
       "      <th>racePctAsian</th>\n",
       "      <th>racePctHisp</th>\n",
       "      <th>agePct12t21</th>\n",
       "      <th>agePct12t29</th>\n",
       "      <th>agePct16t24</th>\n",
       "      <th>agePct65up</th>\n",
       "      <th>...</th>\n",
       "      <th>PctForeignBorn</th>\n",
       "      <th>PctBornSameState</th>\n",
       "      <th>PctSameHouse85</th>\n",
       "      <th>PctSameCity85</th>\n",
       "      <th>PctSameState85</th>\n",
       "      <th>LandArea</th>\n",
       "      <th>PopDens</th>\n",
       "      <th>PctUsePubTrans</th>\n",
       "      <th>LemasPctOfficDrugUn</th>\n",
       "      <th>ViolentCrimesPerPop</th>\n",
       "    </tr>\n",
       "  </thead>\n",
       "  <tbody>\n",
       "    <tr>\n",
       "      <th>0</th>\n",
       "      <td>0.19</td>\n",
       "      <td>0.33</td>\n",
       "      <td>0.02</td>\n",
       "      <td>0.90</td>\n",
       "      <td>0.12</td>\n",
       "      <td>0.17</td>\n",
       "      <td>0.34</td>\n",
       "      <td>0.47</td>\n",
       "      <td>0.29</td>\n",
       "      <td>0.32</td>\n",
       "      <td>...</td>\n",
       "      <td>0.12</td>\n",
       "      <td>0.42</td>\n",
       "      <td>0.50</td>\n",
       "      <td>0.51</td>\n",
       "      <td>0.64</td>\n",
       "      <td>0.12</td>\n",
       "      <td>0.26</td>\n",
       "      <td>0.20</td>\n",
       "      <td>0.32</td>\n",
       "      <td>0.20</td>\n",
       "    </tr>\n",
       "    <tr>\n",
       "      <th>1</th>\n",
       "      <td>0.00</td>\n",
       "      <td>0.16</td>\n",
       "      <td>0.12</td>\n",
       "      <td>0.74</td>\n",
       "      <td>0.45</td>\n",
       "      <td>0.07</td>\n",
       "      <td>0.26</td>\n",
       "      <td>0.59</td>\n",
       "      <td>0.35</td>\n",
       "      <td>0.27</td>\n",
       "      <td>...</td>\n",
       "      <td>0.21</td>\n",
       "      <td>0.50</td>\n",
       "      <td>0.34</td>\n",
       "      <td>0.60</td>\n",
       "      <td>0.52</td>\n",
       "      <td>0.02</td>\n",
       "      <td>0.12</td>\n",
       "      <td>0.45</td>\n",
       "      <td>0.00</td>\n",
       "      <td>0.67</td>\n",
       "    </tr>\n",
       "    <tr>\n",
       "      <th>2</th>\n",
       "      <td>0.00</td>\n",
       "      <td>0.42</td>\n",
       "      <td>0.49</td>\n",
       "      <td>0.56</td>\n",
       "      <td>0.17</td>\n",
       "      <td>0.04</td>\n",
       "      <td>0.39</td>\n",
       "      <td>0.47</td>\n",
       "      <td>0.28</td>\n",
       "      <td>0.32</td>\n",
       "      <td>...</td>\n",
       "      <td>0.14</td>\n",
       "      <td>0.49</td>\n",
       "      <td>0.54</td>\n",
       "      <td>0.67</td>\n",
       "      <td>0.56</td>\n",
       "      <td>0.01</td>\n",
       "      <td>0.21</td>\n",
       "      <td>0.02</td>\n",
       "      <td>0.00</td>\n",
       "      <td>0.43</td>\n",
       "    </tr>\n",
       "    <tr>\n",
       "      <th>3</th>\n",
       "      <td>0.04</td>\n",
       "      <td>0.77</td>\n",
       "      <td>1.00</td>\n",
       "      <td>0.08</td>\n",
       "      <td>0.12</td>\n",
       "      <td>0.10</td>\n",
       "      <td>0.51</td>\n",
       "      <td>0.50</td>\n",
       "      <td>0.34</td>\n",
       "      <td>0.21</td>\n",
       "      <td>...</td>\n",
       "      <td>0.19</td>\n",
       "      <td>0.30</td>\n",
       "      <td>0.73</td>\n",
       "      <td>0.64</td>\n",
       "      <td>0.65</td>\n",
       "      <td>0.02</td>\n",
       "      <td>0.39</td>\n",
       "      <td>0.28</td>\n",
       "      <td>0.00</td>\n",
       "      <td>0.12</td>\n",
       "    </tr>\n",
       "    <tr>\n",
       "      <th>4</th>\n",
       "      <td>0.01</td>\n",
       "      <td>0.55</td>\n",
       "      <td>0.02</td>\n",
       "      <td>0.95</td>\n",
       "      <td>0.09</td>\n",
       "      <td>0.05</td>\n",
       "      <td>0.38</td>\n",
       "      <td>0.38</td>\n",
       "      <td>0.23</td>\n",
       "      <td>0.36</td>\n",
       "      <td>...</td>\n",
       "      <td>0.11</td>\n",
       "      <td>0.72</td>\n",
       "      <td>0.64</td>\n",
       "      <td>0.61</td>\n",
       "      <td>0.53</td>\n",
       "      <td>0.04</td>\n",
       "      <td>0.09</td>\n",
       "      <td>0.02</td>\n",
       "      <td>0.00</td>\n",
       "      <td>0.03</td>\n",
       "    </tr>\n",
       "  </tbody>\n",
       "</table>\n",
       "<p>5 rows × 100 columns</p>\n",
       "</div>"
      ],
      "text/plain": [
       "   population  householdsize  racepctblack  racePctWhite  racePctAsian  \\\n",
       "0        0.19           0.33          0.02          0.90          0.12   \n",
       "1        0.00           0.16          0.12          0.74          0.45   \n",
       "2        0.00           0.42          0.49          0.56          0.17   \n",
       "3        0.04           0.77          1.00          0.08          0.12   \n",
       "4        0.01           0.55          0.02          0.95          0.09   \n",
       "\n",
       "   racePctHisp  agePct12t21  agePct12t29  agePct16t24  agePct65up  \\\n",
       "0         0.17         0.34         0.47         0.29        0.32   \n",
       "1         0.07         0.26         0.59         0.35        0.27   \n",
       "2         0.04         0.39         0.47         0.28        0.32   \n",
       "3         0.10         0.51         0.50         0.34        0.21   \n",
       "4         0.05         0.38         0.38         0.23        0.36   \n",
       "\n",
       "          ...           PctForeignBorn  PctBornSameState  PctSameHouse85  \\\n",
       "0         ...                     0.12              0.42            0.50   \n",
       "1         ...                     0.21              0.50            0.34   \n",
       "2         ...                     0.14              0.49            0.54   \n",
       "3         ...                     0.19              0.30            0.73   \n",
       "4         ...                     0.11              0.72            0.64   \n",
       "\n",
       "   PctSameCity85  PctSameState85  LandArea  PopDens  PctUsePubTrans  \\\n",
       "0           0.51            0.64      0.12     0.26            0.20   \n",
       "1           0.60            0.52      0.02     0.12            0.45   \n",
       "2           0.67            0.56      0.01     0.21            0.02   \n",
       "3           0.64            0.65      0.02     0.39            0.28   \n",
       "4           0.61            0.53      0.04     0.09            0.02   \n",
       "\n",
       "   LemasPctOfficDrugUn  ViolentCrimesPerPop  \n",
       "0                 0.32                 0.20  \n",
       "1                 0.00                 0.67  \n",
       "2                 0.00                 0.43  \n",
       "3                 0.00                 0.12  \n",
       "4                 0.00                 0.03  \n",
       "\n",
       "[5 rows x 100 columns]"
      ]
     },
     "execution_count": 109,
     "metadata": {},
     "output_type": "execute_result"
    }
   ],
   "source": [
    "#Define the features and target variable, 'Violent Crimes per Pop'\n",
    "crime.target=crime['ViolentCrimesPerPop'] \n",
    "crime.features=crime.drop(['ViolentCrimesPerPop'], axis=1)                         \n",
    "print(crime.target.shape)\n",
    "print(crime.features.shape)\n",
    "crime.head()"
   ]
  },
  {
   "cell_type": "markdown",
   "metadata": {},
   "source": [
    "# Ridge Regression"
   ]
  },
  {
   "cell_type": "code",
   "execution_count": 110,
   "metadata": {},
   "outputs": [],
   "source": [
    "# Ridge Regression package\n",
    "from sklearn.linear_model import Ridge"
   ]
  },
  {
   "cell_type": "markdown",
   "metadata": {},
   "source": [
    "## Basic Ridge Model"
   ]
  },
  {
   "cell_type": "code",
   "execution_count": 134,
   "metadata": {},
   "outputs": [
    {
     "name": "stdout",
     "output_type": "stream",
     "text": [
      "Ridge(alpha=1.0, copy_X=True, fit_intercept=True, max_iter=None,\n",
      "   normalize=False, random_state=None, solver='auto', tol=0.001)\n",
      "Coef 0.5135351816663232 [-3.38418572e-02  2.43357321e-02  1.87027498e-01 -5.23197422e-02\n",
      " -1.67677668e-02  4.72345392e-02  4.14437009e-02 -1.74875816e-01\n",
      " -4.36574600e-02  4.32258031e-02 -6.52537224e-02  3.97657237e-02\n",
      "  3.39623356e-02 -1.24624046e-01  3.67306261e-02 -1.47755710e-01\n",
      "  5.96513815e-02  1.49875553e-02 -8.11220058e-02  6.33875794e-02\n",
      " -2.06677307e-02 -1.62903535e-01 -2.00122714e-02 -3.05253966e-02\n",
      "  2.47912310e-02  4.52935960e-02  3.43761924e-02 -1.38473937e-01\n",
      " -9.01636921e-02  5.05364563e-02  4.69968259e-02 -1.78613967e-02\n",
      "  1.53497534e-01 -5.54816676e-02 -1.67671551e-02  6.17033463e-02\n",
      "  5.02487862e-02  1.58507615e-01  1.36778968e-01 -8.67717489e-02\n",
      " -2.85580569e-02  2.56240659e-02 -6.40886760e-02 -1.81783063e-01\n",
      " -4.25160303e-02 -8.68274480e-03  3.26748401e-02 -1.47477326e-01\n",
      " -5.88770547e-02  1.38820453e-01 -9.62680028e-02  2.36638138e-02\n",
      " -9.78687526e-03 -1.78176957e-02  6.57705919e-03 -2.32295518e-02\n",
      " -1.84970562e-02  6.46949293e-02  1.41848308e-02 -1.77818133e-02\n",
      " -1.09001861e-01 -5.34025867e-02 -5.77322488e-02  2.00045382e-01\n",
      " -7.68062788e-02 -5.72878122e-02 -1.16652417e-01  1.66001851e-01\n",
      "  7.34690696e-02  1.66927614e-02  1.42471906e-01 -5.82880452e-02\n",
      "  4.57571036e-02  5.60274148e-02 -6.58149185e-02 -1.06646025e-02\n",
      "  1.84439822e-02 -1.31359450e-02 -9.50273412e-02  1.93864323e-02\n",
      "  4.13663142e-02 -1.91205986e-01  2.31523501e-02 -4.61268027e-04\n",
      "  1.97848832e-01  6.13188022e-02 -4.03280026e-02 -8.52304699e-02\n",
      "  1.10872798e-01  1.77595496e-01  7.22502184e-02 -1.02682403e-02\n",
      "  5.47688657e-05  3.14074660e-02  1.14083938e-02  3.17857627e-02\n",
      " -5.48781690e-03 -3.76377733e-02  2.96728689e-02]\n",
      "MSE 0.01686384528767082\n"
     ]
    }
   ],
   "source": [
    "# fit a ridge regression model to the data\n",
    "model_RG = Ridge(alpha = 1.0)\n",
    "model_RG.fit(crime.features, crime.target)\n",
    "print(model_RG)\n",
    "# make predictions\n",
    "expected_RG = crime.target\n",
    "predicted_RG= model_RG.predict(crime.features)\n",
    "# summarize the fit of the model\n",
    "print(\"Coef\", model_RG.intercept_, model_RG.coef_)\n",
    "print(\"MSE\", mean_squared_error(expected_RG, predicted_RG))"
   ]
  },
  {
   "cell_type": "markdown",
   "metadata": {},
   "source": [
    "The basic Ridge Regression model has a MSE of 0.0168 which seems very low considering I have not adjusted the model yet."
   ]
  },
  {
   "cell_type": "code",
   "execution_count": 135,
   "metadata": {},
   "outputs": [],
   "source": [
    "#pd.DataFrame(np.transpose(model_RG.coef_))"
   ]
  },
  {
   "cell_type": "code",
   "execution_count": 136,
   "metadata": {
    "scrolled": false
   },
   "outputs": [
    {
     "name": "stdout",
     "output_type": "stream",
     "text": [
      "Ridge(alpha=5.0, copy_X=True, fit_intercept=True, max_iter=None,\n",
      "   normalize=False, random_state=None, solver='auto', tol=0.001)\n",
      "Coef 0.45307973719791744 [-1.74029508e-02  2.19538588e-02  1.56808585e-01 -7.84171774e-02\n",
      " -2.25143656e-02  2.67662320e-02  3.17058614e-03 -7.62612368e-02\n",
      " -2.24813238e-02  3.29048250e-02 -2.38156131e-02  3.77737574e-02\n",
      "  2.38288029e-02 -5.94761486e-02  2.37566650e-02 -9.57319569e-02\n",
      "  3.47141852e-02  2.29747913e-02 -6.66644488e-02  1.44559973e-02\n",
      " -1.99716872e-02 -4.99976600e-02 -1.61532136e-02 -2.64146695e-02\n",
      "  2.49949205e-02  3.69949464e-02  4.13048760e-03 -8.15859840e-02\n",
      " -5.26527986e-02  2.73622797e-02  6.94197550e-03 -2.69056556e-02\n",
      "  5.72172454e-02 -3.93827068e-02 -8.65758659e-03  3.12265207e-02\n",
      "  9.05615658e-03  9.25021535e-02  6.40847500e-02 -2.70179709e-02\n",
      "  1.33994221e-02  2.35692417e-02 -6.83992579e-02 -1.14110877e-01\n",
      " -5.69656535e-02 -2.14757441e-02  2.76415751e-03 -8.70753676e-02\n",
      " -6.11495909e-03  1.45608971e-01 -4.04414090e-02  1.56746422e-02\n",
      " -1.20665545e-02 -1.22777866e-02  2.87927584e-03 -7.39532382e-03\n",
      "  5.13226123e-04  2.79728565e-02  2.71850081e-02  3.99227536e-05\n",
      " -4.94035468e-02 -1.56452408e-02 -2.34097490e-02  5.97435860e-02\n",
      " -2.92826349e-02 -6.71799576e-03 -4.08049045e-02  9.02961649e-02\n",
      "  4.63739805e-02  6.87978125e-03  9.57419807e-02 -6.74701354e-02\n",
      "  9.92312048e-03  5.54499198e-02 -4.97361967e-02 -4.45287266e-03\n",
      "  1.96894851e-02 -8.89373629e-03 -3.04113478e-02  2.49871103e-03\n",
      "  1.36429222e-02 -1.10941300e-01  1.74697729e-02  3.23665446e-02\n",
      "  8.12410296e-02  5.22328649e-02 -2.08641376e-02 -7.54001011e-02\n",
      "  7.32200400e-02  1.35969054e-01  4.00083653e-02 -1.39369569e-02\n",
      "  5.13316629e-03  3.40170681e-02  7.48883557e-03  2.38492138e-02\n",
      " -2.41947954e-03 -2.43068780e-02  3.09809777e-02]\n",
      "MSE 0.017352986890970826\n"
     ]
    }
   ],
   "source": [
    "#Adjusting the alpha in my model from the default of 1 to a 5.\n",
    "# fit a ridge regression model to the data\n",
    "model_RG = Ridge(alpha = 5.0)\n",
    "model_RG.fit(crime.features, crime.target)\n",
    "print(model_RG)\n",
    "# make predictions\n",
    "expected_RG = crime.target\n",
    "predicted_RG= model_RG.predict(crime.features)\n",
    "# summarize the fit of the model\n",
    "print(\"Coef\", model_RG.intercept_, model_RG.coef_)\n",
    "print(\"MSE\", mean_squared_error(expected_RG, predicted_RG))"
   ]
  },
  {
   "cell_type": "markdown",
   "metadata": {},
   "source": [
    "My second Ridge Regression model I adjusted my alpha, or error, up to 5.0.  This caused my MSE to go up slightly to 0.0173."
   ]
  },
  {
   "cell_type": "code",
   "execution_count": 137,
   "metadata": {},
   "outputs": [
    {
     "name": "stdout",
     "output_type": "stream",
     "text": [
      "Ridge(alpha=0.5, copy_X=True, fit_intercept=True, max_iter=None,\n",
      "   normalize=False, random_state=None, solver='auto', tol=0.001)\n",
      "Coef 0.5380523806944332 [-0.02769673  0.01625281  0.19643194 -0.0451303  -0.01425859  0.0521199\n",
      "  0.06057172 -0.21382197 -0.05803366  0.04034612 -0.08664645  0.04051655\n",
      "  0.01305794 -0.1509612   0.04035378 -0.16043553  0.06859303  0.01097773\n",
      " -0.08269686  0.09955208 -0.00199537 -0.21704958 -0.02167977 -0.03175173\n",
      "  0.02377664  0.04680228  0.06045067 -0.15275291 -0.1009773   0.05966999\n",
      "  0.05653957 -0.01113828  0.19018832 -0.06008011 -0.02044392  0.0694102\n",
      "  0.06656798  0.18757915  0.16833297 -0.09702482 -0.05716057  0.00793619\n",
      " -0.04924118 -0.21818419 -0.03682284 -0.00612913  0.04323305 -0.16456274\n",
      " -0.08373667  0.13227816 -0.11450864  0.02514657 -0.00576413 -0.02334321\n",
      "  0.01093488 -0.02884964 -0.0337178   0.10062989 -0.0085738  -0.02552047\n",
      " -0.1308538  -0.05910759 -0.07000419  0.30045838 -0.1052186  -0.09454653\n",
      " -0.17236221  0.19000032  0.08372958  0.02041219  0.15220175 -0.05436956\n",
      "  0.08333629  0.05539981 -0.06964248 -0.01267968  0.0174421  -0.01442093\n",
      " -0.13621009  0.03983458  0.05599307 -0.211547    0.01737945 -0.02628543\n",
      "  0.25478921  0.06025256 -0.04500099 -0.08638212  0.12256725  0.18311914\n",
      "  0.08589367 -0.008339   -0.00461576  0.02810146  0.01351141  0.03291354\n",
      " -0.00603788 -0.04045642  0.02923128]\n",
      "MSE 0.016756389850656684\n"
     ]
    }
   ],
   "source": [
    "#Adjusting the alpha in my model from 5 to 0.5.\n",
    "# fit a ridge regression model to the data\n",
    "model_RG = Ridge(alpha = 0.5)\n",
    "model_RG.fit(crime.features, crime.target)\n",
    "print(model_RG)\n",
    "# make predictions\n",
    "expected_RG = crime.target\n",
    "predicted_RG= model_RG.predict(crime.features)\n",
    "# summarize the fit of the model\n",
    "print(\"Coef\", model_RG.intercept_, model_RG.coef_)\n",
    "print(\"MSE\", mean_squared_error(expected_RG, predicted_RG))"
   ]
  },
  {
   "cell_type": "markdown",
   "metadata": {},
   "source": [
    "My third Ridge Regression model, I adjusted my alpha down to 0.5 to see if that would cause my MSE to go back down.  It did cause it to go down, even slightly lower than the basic model, down to 0.0167."
   ]
  },
  {
   "cell_type": "markdown",
   "metadata": {},
   "source": [
    "## Grid Search to narrow down alpha and Cross Validation 10 times"
   ]
  },
  {
   "cell_type": "code",
   "execution_count": 141,
   "metadata": {},
   "outputs": [
    {
     "name": "stdout",
     "output_type": "stream",
     "text": [
      "Best {'alpha': 0.9}\n"
     ]
    }
   ],
   "source": [
    "# use a full grid over several parameters\n",
    "from sklearn.model_selection import GridSearchCV\n",
    "param_grid = {\"alpha\": [0.2, 0.3, 0.4, 0.5, 0.6, 0.7, 0.8, 0.9]}  #different penalties I am playing with\n",
    "\n",
    "# run grid search\n",
    "grid_search = GridSearchCV(model_RG, param_grid=param_grid,n_jobs=-1, cv = 10)\n",
    "grid_search.fit(crime.features, crime.target)\n",
    "print(\"Best\", grid_search.best_params_) "
   ]
  },
  {
   "cell_type": "markdown",
   "metadata": {},
   "source": [
    "Using a grid search, I ran 8 different alpha values through my model.  I use the grid search because it is a more efficient way of trying to find what my most ideal alpha value is rather than plugging one in at a time and seeing how my MSE adjusts.  I also used cross validation with the grid search cross validating 10 times.  Cross validation allows my model to be run a specific number of times, 10 in this case, each time taking different samples of data to run the model against for my various alphas I am using in the grid search.  Cross validation is a good way to see if we are overfitting our model. My result was that my best alpha is 0.9."
   ]
  },
  {
   "cell_type": "markdown",
   "metadata": {},
   "source": [
    "## Ridge Model with Best Alpha From Gridsearch"
   ]
  },
  {
   "cell_type": "code",
   "execution_count": 142,
   "metadata": {},
   "outputs": [
    {
     "name": "stdout",
     "output_type": "stream",
     "text": [
      "Ridge(alpha=0.9, copy_X=True, fit_intercept=True, max_iter=None,\n",
      "   normalize=False, random_state=None, solver='auto', tol=0.001)\n",
      "Coef 0.5173705618310256 [-0.03358301  0.02346494  0.18868294 -0.05095007 -0.0163454   0.04815463\n",
      "  0.04442293 -0.18154648 -0.04562798  0.04300942 -0.06823997  0.03988346\n",
      "  0.03216001 -0.12895388  0.03735831 -0.15014698  0.06112489  0.01433634\n",
      " -0.08141631  0.06826258 -0.01857973 -0.17129524 -0.02028281 -0.03072882\n",
      "  0.02466351  0.04558191  0.03816789 -0.14098977 -0.0921011   0.05214113\n",
      "  0.0489033  -0.01679304  0.15970447 -0.05631288 -0.01740876  0.0631866\n",
      "  0.0529413   0.16295859  0.14185528 -0.08927749 -0.03236113  0.02386911\n",
      " -0.06242945 -0.1871576  -0.04153466 -0.00820907  0.03450358 -0.15055241\n",
      " -0.06280419  0.13778249 -0.09940188  0.02394293 -0.00927753 -0.01848045\n",
      "  0.00711948 -0.02413413 -0.02040001  0.06906558  0.0115413  -0.01904156\n",
      " -0.11271422 -0.05497747 -0.05952522  0.21393035 -0.08109784 -0.06246989\n",
      " -0.12412988  0.17029867  0.07512338  0.01729914  0.14437289 -0.05760667\n",
      "  0.05032227  0.05595862 -0.06649461 -0.0109583   0.0182988  -0.01335573\n",
      " -0.10097884  0.02184444  0.0438493  -0.19490896  0.02264117 -0.00438731\n",
      "  0.20670105  0.06132804 -0.04118948 -0.0854928   0.11288968  0.17878361\n",
      "  0.07437424 -0.01000196 -0.00059257  0.03091776  0.01173614  0.03205555\n",
      " -0.00558585 -0.03818657  0.02960723]\n",
      "MSE 0.016844120030375095\n"
     ]
    }
   ],
   "source": [
    "#Ridge model with alpha of 0.9\n",
    "# fit a ridge regression model to the data\n",
    "model_RG = Ridge(alpha = 0.9)\n",
    "model_RG.fit(crime.features, crime.target)\n",
    "print(model_RG)\n",
    "# make predictions\n",
    "expected_RG = crime.target\n",
    "predicted_RG= model_RG.predict(crime.features)\n",
    "# summarize the fit of the model\n",
    "print(\"Coef\", model_RG.intercept_, model_RG.coef_)\n",
    "print(\"MSE\", mean_squared_error(expected_RG, predicted_RG))"
   ]
  },
  {
   "cell_type": "markdown",
   "metadata": {},
   "source": [
    "My final Ridge model I used the 0.9 alpha that was considered my best alpha based on the grid search and cross validation I did in the previous step.  This produced a MSE of 0.0168.  Based purely on the MSE, I would say that my best Ridge Regression model is my 3rd one with the alpha of 0.5."
   ]
  },
  {
   "cell_type": "markdown",
   "metadata": {},
   "source": [
    "# LASSO Regression"
   ]
  },
  {
   "cell_type": "code",
   "execution_count": 117,
   "metadata": {},
   "outputs": [],
   "source": [
    "# Lasso Regression-Least Absolute Shrinkage and Selection Operator\n",
    "from sklearn.linear_model import Lasso"
   ]
  },
  {
   "cell_type": "markdown",
   "metadata": {},
   "source": [
    "## Basic LASSO Model"
   ]
  },
  {
   "cell_type": "code",
   "execution_count": 120,
   "metadata": {},
   "outputs": [
    {
     "name": "stdout",
     "output_type": "stream",
     "text": [
      "Lasso(alpha=1, copy_X=True, fit_intercept=True, max_iter=1000,\n",
      "   normalize=False, positive=False, precompute=False, random_state=None,\n",
      "   selection='cyclic', tol=0.0001, warm_start=False)\n",
      "Coef 0.2379789368104313 [ 0. -0.  0. -0.  0.  0.  0.  0.  0.  0.  0.  0. -0. -0. -0. -0.  0.  0.\n",
      " -0. -0. -0. -0. -0. -0. -0. -0.  0.  0.  0.  0. -0.  0. -0. -0. -0.  0.\n",
      " -0.  0.  0.  0.  0.  0. -0. -0. -0. -0. -0. -0.  0.  0.  0.  0.  0.  0.\n",
      "  0.  0.  0.  0.  0. -0.  0.  0.  0. -0. -0.  0. -0.  0.  0. -0.  0. -0.\n",
      " -0.  0.  0. -0.  0.  0. -0. -0. -0. -0. -0. -0. -0.  0.  0.  0.  0.  0.\n",
      "  0. -0. -0.  0. -0.  0.  0.  0.  0.]\n",
      "MSE 0.05425474178302209\n"
     ]
    }
   ],
   "source": [
    "# fit a LASSO model to the data\n",
    "model_LAS = Lasso(alpha=1)\n",
    "model_LAS.fit(crime.features, crime.target)\n",
    "print(model_LAS)\n",
    "# make predictions\n",
    "expected_LAS = crime.target\n",
    "predicted_LAS = model_LAS.predict(crime.features)\n",
    "# summarize the fit of the model\n",
    "print(\"Coef\", model_LAS.intercept_,model_LAS.coef_)\n",
    "print(\"MSE\", mean_squared_error(expected_LAS, predicted_LAS))"
   ]
  },
  {
   "cell_type": "markdown",
   "metadata": {},
   "source": [
    "The basic Lasso Regression model produced a MSE of 0.0542, with the alpha set to 1."
   ]
  },
  {
   "cell_type": "code",
   "execution_count": 128,
   "metadata": {},
   "outputs": [
    {
     "name": "stdout",
     "output_type": "stream",
     "text": [
      "Lasso(alpha=0.01, copy_X=True, fit_intercept=True, max_iter=1000,\n",
      "   normalize=False, positive=False, precompute=False, random_state=None,\n",
      "   selection='cyclic', tol=0.0001, warm_start=False)\n",
      "Coef 0.4588145567123556 [ 0.         -0.          0.         -0.17599284  0.          0.\n",
      " -0.         -0.         -0.          0.          0.          0.\n",
      " -0.         -0.         -0.         -0.          0.          0.\n",
      " -0.         -0.         -0.         -0.         -0.         -0.\n",
      " -0.         -0.          0.          0.          0.          0.\n",
      " -0.          0.         -0.         -0.         -0.          0.\n",
      " -0.          0.          0.          0.          0.          0.\n",
      " -0.         -0.23323255 -0.         -0.         -0.         -0.\n",
      "  0.          0.22628628  0.          0.          0.          0.\n",
      "  0.          0.          0.          0.          0.         -0.\n",
      "  0.          0.          0.         -0.         -0.          0.\n",
      " -0.          0.          0.         -0.          0.         -0.\n",
      " -0.          0.         -0.         -0.          0.          0.\n",
      " -0.         -0.         -0.         -0.         -0.         -0.\n",
      " -0.          0.          0.         -0.          0.          0.\n",
      "  0.         -0.         -0.          0.         -0.          0.\n",
      "  0.          0.          0.        ]\n",
      "MSE 0.023833317877516552\n"
     ]
    }
   ],
   "source": [
    "# Adjust the alpha to 0.01 from 1.0\n",
    "model_LAS = Lasso(alpha=0.01)\n",
    "model_LAS.fit(crime.features, crime.target)\n",
    "print(model_LAS)\n",
    "# make predictions\n",
    "expected_LAS = crime.target\n",
    "predicted_LAS = model_LAS.predict(crime.features)\n",
    "# summarize the fit of the model\n",
    "print(\"Coef\", model_LAS.intercept_,model_LAS.coef_)\n",
    "print(\"MSE\", mean_squared_error(expected_LAS, predicted_LAS))"
   ]
  },
  {
   "cell_type": "markdown",
   "metadata": {},
   "source": [
    "For my second Lasso model, I adjusted my alpha down to 0.01 which caused my MSE to drop all the way down to 0.0238."
   ]
  },
  {
   "cell_type": "markdown",
   "metadata": {},
   "source": [
    "## Full Grid Search With 3 Different Grids"
   ]
  },
  {
   "cell_type": "markdown",
   "metadata": {},
   "source": [
    "### Grid 1"
   ]
  },
  {
   "cell_type": "code",
   "execution_count": 130,
   "metadata": {},
   "outputs": [
    {
     "name": "stdout",
     "output_type": "stream",
     "text": [
      "Best {'alpha': 0.005}\n"
     ]
    }
   ],
   "source": [
    "param_grid = {\"alpha\": [0.05, 0.01, 0.005]}  #different penalties I am playing with\n",
    "\n",
    "# run grid search\n",
    "grid_search = GridSearchCV(model_LAS, param_grid=param_grid,n_jobs=-1)\n",
    "grid_search.fit(crime.features, crime.target)\n",
    "print(\"Best\", grid_search.best_params_) "
   ]
  },
  {
   "cell_type": "markdown",
   "metadata": {},
   "source": [
    "For my first grid, I am feeding my Lasso model 3 alphas, including the alpha I used in my previous model that saw my MSE drop from the original model.  I also gave it an alpha that is above and below that value to see for my second grid where I need to adjust to next.  For grid one, my best alpha was 0.005."
   ]
  },
  {
   "cell_type": "markdown",
   "metadata": {},
   "source": [
    "### Grid 2"
   ]
  },
  {
   "cell_type": "code",
   "execution_count": 131,
   "metadata": {},
   "outputs": [
    {
     "name": "stdout",
     "output_type": "stream",
     "text": [
      "Best {'alpha': 0.0005}\n"
     ]
    }
   ],
   "source": [
    "param_grid = {\"alpha\": [0.005, 0.001, 0.0005]}  #different penalties I am playing with\n",
    "\n",
    "# run grid search\n",
    "grid_search = GridSearchCV(model_LAS, param_grid=param_grid,n_jobs=-1)\n",
    "grid_search.fit(crime.features, crime.target)\n",
    "print(\"Best\", grid_search.best_params_) "
   ]
  },
  {
   "cell_type": "markdown",
   "metadata": {},
   "source": [
    "For my second grid, I again fed it 3 values including 0.005 from my last model.  This time, the grid search produced a result saying my best alpha is 0.0005, continuing our trend downwards in the alpha that will produce our lowest MSE."
   ]
  },
  {
   "cell_type": "markdown",
   "metadata": {},
   "source": [
    "### Grid 3"
   ]
  },
  {
   "cell_type": "code",
   "execution_count": 132,
   "metadata": {},
   "outputs": [
    {
     "name": "stdout",
     "output_type": "stream",
     "text": [
      "Best {'alpha': 0.0001}\n"
     ]
    }
   ],
   "source": [
    "param_grid = {\"alpha\": [0.0005, 0.0001, 0.00005]}  #different penalties I am playing with\n",
    "\n",
    "# run grid search\n",
    "grid_search = GridSearchCV(model_LAS, param_grid=param_grid,n_jobs=-1)\n",
    "grid_search.fit(crime.features, crime.target)\n",
    "print(\"Best\", grid_search.best_params_) "
   ]
  },
  {
   "cell_type": "markdown",
   "metadata": {},
   "source": [
    "After running the grid search 3 different times, adjusting the alpha each time, I believe that using an alpha of 0.0001 will be best for my model."
   ]
  },
  {
   "cell_type": "markdown",
   "metadata": {},
   "source": [
    "## Final Lasso Model With Best Alpha"
   ]
  },
  {
   "cell_type": "code",
   "execution_count": 133,
   "metadata": {},
   "outputs": [
    {
     "name": "stdout",
     "output_type": "stream",
     "text": [
      "Lasso(alpha=0.0001, copy_X=True, fit_intercept=True, max_iter=1000,\n",
      "   normalize=False, positive=False, precompute=False, random_state=None,\n",
      "   selection='cyclic', tol=0.0001, warm_start=False)\n",
      "Coef 0.5238139625025185 [-0.          0.          0.19049555 -0.03015929 -0.          0.03410396\n",
      "  0.00672702 -0.16613386  0.          0.00404662 -0.03846941  0.03568629\n",
      "  0.         -0.12763614  0.02844845 -0.11030302  0.03352877  0.\n",
      " -0.08169029  0.         -0.         -0.07935263 -0.01204218 -0.026911\n",
      "  0.02399961  0.03932173 -0.         -0.13076952 -0.04032571  0.\n",
      "  0.01614339 -0.0145753   0.0983234  -0.03352553  0.          0.01870041\n",
      "  0.          0.129231    0.11623283 -0.05595778 -0.          0.\n",
      " -0.         -0.24644451 -0.03705816 -0.          0.         -0.11080404\n",
      " -0.01857227  0.15856061 -0.08152465  0.00188986 -0.         -0.\n",
      " -0.          0.          0.          0.01383976  0.         -0.\n",
      " -0.05862602 -0.03504505 -0.02771786  0.10355384 -0.00300917 -0.0054601\n",
      " -0.02941436  0.14890693  0.04767228  0.00553074  0.12529692 -0.05828826\n",
      "  0.          0.04674764 -0.05265435 -0.00607145  0.01484352 -0.00560435\n",
      " -0.01179338 -0.          0.         -0.19185798  0.          0.\n",
      "  0.20495767  0.05473184 -0.03209589 -0.08154754  0.06316444  0.17636044\n",
      "  0.06469251 -0.         -0.          0.02348698  0.          0.00463918\n",
      " -0.0006705  -0.02564426  0.02572137]\n",
      "MSE 0.01711633303922174\n"
     ]
    }
   ],
   "source": [
    "# Adjust the alpha to 0.0001 as indicated from the grid search\n",
    "model_LAS = Lasso(alpha=0.0001)\n",
    "model_LAS.fit(crime.features, crime.target)\n",
    "print(model_LAS)\n",
    "# make predictions\n",
    "expected_LAS = crime.target\n",
    "predicted_LAS = model_LAS.predict(crime.features)\n",
    "# summarize the fit of the model\n",
    "print(\"Coef\", model_LAS.intercept_,model_LAS.coef_)\n",
    "print(\"MSE\", mean_squared_error(expected_LAS, predicted_LAS))"
   ]
  },
  {
   "cell_type": "markdown",
   "metadata": {},
   "source": [
    "For my final Lasso model, I used my best alpha of 0.0001 that was produced from my 3 separate grid searches and narrowing down my results.  For this model, that alpha value gives an output of a MSE of 0.01711 which is our best result from the Lasso model, although not as good as our best results from the Ridge models."
   ]
  },
  {
   "cell_type": "markdown",
   "metadata": {},
   "source": [
    "# ElasticNet Regression"
   ]
  },
  {
   "cell_type": "code",
   "execution_count": 143,
   "metadata": {},
   "outputs": [],
   "source": [
    "# ElasticNet Regression\n",
    "from sklearn.linear_model import ElasticNet"
   ]
  },
  {
   "cell_type": "code",
   "execution_count": 144,
   "metadata": {},
   "outputs": [
    {
     "name": "stdout",
     "output_type": "stream",
     "text": [
      "ElasticNet(alpha=1, copy_X=True, fit_intercept=True, l1_ratio=0.5,\n",
      "      max_iter=1000, normalize=False, positive=False, precompute=False,\n",
      "      random_state=None, selection='cyclic', tol=0.0001, warm_start=False)\n",
      "Coef 0.2379789368104313 [ 0. -0.  0. -0.  0.  0.  0.  0.  0.  0.  0.  0. -0. -0. -0. -0.  0.  0.\n",
      " -0. -0. -0. -0. -0. -0. -0. -0.  0.  0.  0.  0. -0.  0. -0. -0. -0.  0.\n",
      " -0.  0.  0.  0.  0.  0. -0. -0. -0. -0. -0. -0.  0.  0.  0.  0.  0.  0.\n",
      "  0.  0.  0.  0.  0. -0.  0.  0.  0. -0. -0.  0. -0.  0.  0. -0.  0. -0.\n",
      " -0.  0.  0. -0.  0.  0. -0. -0. -0. -0. -0. -0. -0.  0.  0.  0.  0.  0.\n",
      "  0. -0. -0.  0. -0.  0.  0.  0.  0.]\n",
      "MSE 0.05425474178302209\n"
     ]
    }
   ],
   "source": [
    "# Basic ElasticNet Regression Model\n",
    "model_EN = ElasticNet(alpha=1)\n",
    "model_EN.fit(crime.features, crime.target)\n",
    "print(model_EN)\n",
    "# make predictions\n",
    "expected_EN = crime.target\n",
    "predicted_EN = model_EN.predict(crime.features)\n",
    "# summarize the fit of the model\n",
    "print(\"Coef\", model_EN.intercept_, model_EN.coef_)\n",
    "print(\"MSE\", mean_squared_error(expected_EN, predicted_EN))"
   ]
  },
  {
   "cell_type": "markdown",
   "metadata": {},
   "source": [
    "My first ElasticNet model used the default values, which means an alpha of 1.  This produced an MSE of 0.0542."
   ]
  },
  {
   "cell_type": "code",
   "execution_count": 146,
   "metadata": {},
   "outputs": [
    {
     "name": "stdout",
     "output_type": "stream",
     "text": [
      "ElasticNet(alpha=0.5, copy_X=True, fit_intercept=True, l1_ratio=0.5,\n",
      "      max_iter=1000, normalize=False, positive=False, precompute=False,\n",
      "      random_state=None, selection='cyclic', tol=0.0001, warm_start=False)\n",
      "Coef 0.2379789368104313 [ 0. -0.  0. -0.  0.  0.  0.  0.  0.  0.  0.  0. -0. -0. -0. -0.  0.  0.\n",
      " -0. -0. -0. -0. -0. -0. -0. -0.  0.  0.  0.  0. -0.  0. -0. -0. -0.  0.\n",
      " -0.  0.  0.  0.  0.  0. -0. -0. -0. -0. -0. -0.  0.  0.  0.  0.  0.  0.\n",
      "  0.  0.  0.  0.  0. -0.  0.  0.  0. -0. -0.  0. -0.  0.  0. -0.  0. -0.\n",
      " -0.  0.  0. -0.  0.  0. -0. -0. -0. -0. -0. -0. -0.  0.  0.  0.  0.  0.\n",
      "  0. -0. -0.  0. -0.  0.  0.  0.  0.]\n",
      "MSE 0.05425474178302209\n"
     ]
    }
   ],
   "source": [
    "# ElasticNet Regression Model adjusting Alpha from 1 to 0.5\n",
    "model_EN = ElasticNet(alpha=0.5)\n",
    "model_EN.fit(crime.features, crime.target)\n",
    "print(model_EN)\n",
    "# make predictions\n",
    "expected_EN = crime.target\n",
    "predicted_EN = model_EN.predict(crime.features)\n",
    "# summarize the fit of the model\n",
    "print(\"Coef\", model_EN.intercept_, model_EN.coef_)\n",
    "print(\"MSE\", mean_squared_error(expected_EN, predicted_EN))"
   ]
  },
  {
   "cell_type": "markdown",
   "metadata": {},
   "source": [
    "My second ElasticNet model adjusted the alpha down to 0.5 which actually gave the exact same MSE result as the model using the default values.  I will need to make greater adjustments to my alpha either up or down to see my MSE adjust as well."
   ]
  },
  {
   "cell_type": "code",
   "execution_count": 147,
   "metadata": {},
   "outputs": [
    {
     "name": "stdout",
     "output_type": "stream",
     "text": [
      "ElasticNet(alpha=0.05, copy_X=True, fit_intercept=True, l1_ratio=0.5,\n",
      "      max_iter=1000, normalize=False, positive=False, precompute=False,\n",
      "      random_state=None, selection='cyclic', tol=0.0001, warm_start=False)\n",
      "Coef 0.2888739692310527 [ 0.         -0.          0.02051874 -0.0798286   0.          0.\n",
      "  0.          0.          0.          0.          0.          0.\n",
      " -0.         -0.         -0.         -0.          0.          0.\n",
      " -0.         -0.         -0.         -0.         -0.         -0.\n",
      " -0.         -0.          0.          0.          0.          0.\n",
      " -0.          0.         -0.         -0.         -0.          0.\n",
      " -0.          0.          0.          0.          0.          0.\n",
      " -0.         -0.03500081 -0.         -0.         -0.         -0.\n",
      "  0.          0.10924545  0.          0.          0.          0.\n",
      "  0.          0.          0.          0.          0.         -0.\n",
      "  0.          0.          0.         -0.         -0.          0.\n",
      " -0.          0.          0.         -0.          0.         -0.\n",
      " -0.          0.          0.         -0.          0.          0.\n",
      " -0.         -0.         -0.         -0.         -0.         -0.\n",
      " -0.          0.          0.          0.          0.          0.\n",
      "  0.         -0.         -0.          0.         -0.          0.\n",
      "  0.          0.          0.        ]\n",
      "MSE 0.03821129612705477\n"
     ]
    }
   ],
   "source": [
    "# ElasticNet Regression Model adjusting Alpha from 0.5 to 0.05\n",
    "model_EN = ElasticNet(alpha=0.05)\n",
    "model_EN.fit(crime.features, crime.target)\n",
    "print(model_EN)\n",
    "# make predictions\n",
    "expected_EN = crime.target\n",
    "predicted_EN = model_EN.predict(crime.features)\n",
    "# summarize the fit of the model\n",
    "print(\"Coef\", model_EN.intercept_, model_EN.coef_)\n",
    "print(\"MSE\", mean_squared_error(expected_EN, predicted_EN))"
   ]
  },
  {
   "cell_type": "markdown",
   "metadata": {},
   "source": [
    "My 3rd model used an alpha of 0.05, which finally saw my MSE go down to 0.0382.  This did lower the MSE, but I will next use a grid search combined with cross validation to see if continued dropping of the alpha can bring my MSE even lower."
   ]
  },
  {
   "cell_type": "markdown",
   "metadata": {},
   "source": [
    "## Grid Search to narrow down alpha with Cross Validation 5 Times"
   ]
  },
  {
   "cell_type": "code",
   "execution_count": 149,
   "metadata": {},
   "outputs": [
    {
     "name": "stdout",
     "output_type": "stream",
     "text": [
      "Best {'alpha': 0.0001}\n"
     ]
    }
   ],
   "source": [
    "# use a full grid over several parameters\n",
    "param_grid = {\"alpha\": [0.00005, 0.0001, 0.0005, 0.001, 0.005, 0.01, 0.05, 0.1, 0.25]}  #different penalties I am playing with\n",
    "\n",
    "# run grid search\n",
    "grid_search = GridSearchCV(model_EN, param_grid=param_grid,n_jobs=-1, cv = 5)\n",
    "grid_search.fit(crime.features, crime.target)\n",
    "print(\"Best\", grid_search.best_params_) "
   ]
  },
  {
   "cell_type": "markdown",
   "metadata": {},
   "source": [
    "Grid search between 9 alpha values and a cross validation being performed 5 times yields a best alpha result of 0.0001.  My grid search included values below and above the previously used alpha of 0.05.  The cross validation allowed each of those alphas to run through the model 5 times using separate samples of data.  The combination of the alphas in the grid search and the cross validation produced a best alpha of 0.0001."
   ]
  },
  {
   "cell_type": "code",
   "execution_count": 150,
   "metadata": {},
   "outputs": [
    {
     "name": "stdout",
     "output_type": "stream",
     "text": [
      "ElasticNet(alpha=0.0001, copy_X=True, fit_intercept=True, l1_ratio=0.5,\n",
      "      max_iter=1000, normalize=False, positive=False, precompute=False,\n",
      "      random_state=None, selection='cyclic', tol=0.0001, warm_start=False)\n",
      "Coef 0.5502590618780592 [-0.          0.          0.19507642 -0.03512122 -0.00218166  0.05111446\n",
      "  0.02543829 -0.23239891 -0.          0.0164314  -0.07084361  0.03857591\n",
      "  0.         -0.16064697  0.03645328 -0.1457448   0.05110971  0.\n",
      " -0.08678994  0.07205893  0.         -0.16377285 -0.01772601 -0.0295398\n",
      "  0.02360377  0.04424481  0.         -0.14353103 -0.06335331  0.01600431\n",
      "  0.04089252 -0.01043003  0.15378626 -0.04713185 -0.          0.04821186\n",
      "  0.02795142  0.15592205  0.1537795  -0.1011234  -0.         -0.\n",
      " -0.         -0.2651728  -0.03577887 -0.          0.02704295 -0.14579233\n",
      " -0.03897397  0.14191253 -0.09909447  0.00877475 -0.00314502 -0.00255198\n",
      " -0.         -0.         -0.          0.01699657  0.         -0.00441094\n",
      " -0.1007513  -0.04476726 -0.06181035  0.30074729 -0.10421936 -0.06953933\n",
      " -0.07891933  0.17005724  0.0714831   0.01463716  0.1507123  -0.05509719\n",
      "  0.          0.05146782 -0.06271312 -0.00749163  0.01576152 -0.00989739\n",
      " -0.06402543  0.          0.02292527 -0.20642619  0.         -0.\n",
      "  0.24019146  0.0520298  -0.03902896 -0.08461324  0.09715757  0.18096472\n",
      "  0.08880254 -0.         -0.          0.02661572  0.00242818  0.01828746\n",
      " -0.0026551  -0.03540132  0.02760288]\n",
      "MSE 0.016857834443955718\n"
     ]
    }
   ],
   "source": [
    "# ElasticNet Regression Model adjusting Alpha to 0.0001 as indicated as the best alpha for the model\n",
    "model_EN = ElasticNet(alpha=0.0001)\n",
    "model_EN.fit(crime.features, crime.target)\n",
    "print(model_EN)\n",
    "# make predictions\n",
    "expected_EN = crime.target\n",
    "predicted_EN = model_EN.predict(crime.features)\n",
    "# summarize the fit of the model\n",
    "print(\"Coef\", model_EN.intercept_, model_EN.coef_)\n",
    "print(\"MSE\", mean_squared_error(expected_EN, predicted_EN))"
   ]
  },
  {
   "cell_type": "markdown",
   "metadata": {},
   "source": [
    "My final version of the ElasticNet model used my best alpha from above, 0.0001.  This produced my lowest MSE for my ElasticNet Regressions of 0.0168 which is very close to the MSE we got in our best Ridge Regression model."
   ]
  },
  {
   "cell_type": "markdown",
   "metadata": {},
   "source": [
    "# SGD Regressor"
   ]
  },
  {
   "cell_type": "code",
   "execution_count": 151,
   "metadata": {},
   "outputs": [],
   "source": [
    "# SGD Regressor\n",
    "from sklearn.linear_model import SGDRegressor"
   ]
  },
  {
   "cell_type": "code",
   "execution_count": 159,
   "metadata": {},
   "outputs": [
    {
     "name": "stdout",
     "output_type": "stream",
     "text": [
      "SGDRegressor(alpha=0.0001, average=False, epsilon=0.1, eta0=0.01,\n",
      "       fit_intercept=True, l1_ratio=0.15, learning_rate='invscaling',\n",
      "       loss='squared_loss', max_iter=None, n_iter=None, penalty='l2',\n",
      "       power_t=0.25, random_state=None, shuffle=True, tol=None, verbose=0,\n",
      "       warm_start=False)\n",
      "Coef [0.02572085] [ 2.23021108e-02  1.62687962e-03  1.11497164e-01 -6.71746869e-02\n",
      " -2.89160519e-04  1.01098986e-02 -4.13799898e-03 -2.36503460e-03\n",
      " -8.84745011e-03  1.95581189e-02  2.25192280e-02  4.85209155e-02\n",
      " -1.05863535e-03 -5.19274640e-03 -7.79490051e-03 -2.10642421e-02\n",
      "  1.80020351e-02  4.03548469e-02  6.06828664e-03 -3.52423516e-03\n",
      "  6.88668834e-03  2.18661364e-02 -3.91562959e-03  1.00807534e-03\n",
      "  1.77244073e-02  1.56768514e-02  2.56549478e-02  2.73409891e-02\n",
      "  9.12273702e-03  2.60686998e-02 -1.98586122e-03  2.53747178e-02\n",
      "  2.58140619e-03 -9.33856541e-03  1.44714709e-03  1.10690433e-02\n",
      "  4.35567584e-03  6.10836145e-02  1.67243916e-02  5.42480889e-02\n",
      "  5.94458399e-02  1.29404577e-02 -4.47890484e-02 -5.15108067e-02\n",
      " -4.45792315e-02 -3.98981984e-02  9.73360976e-03 -9.49162735e-04\n",
      "  2.66615406e-02  9.37091537e-02  8.31228088e-03 -1.54801684e-04\n",
      "  6.96762414e-04  6.44395630e-03  1.27588507e-02  2.75902687e-03\n",
      "  5.84011022e-03  9.40627617e-03  1.15151083e-02  2.32675202e-02\n",
      "  9.00495117e-04  2.11342665e-02  1.37574443e-02  7.51012948e-03\n",
      " -2.93357930e-03  2.19648636e-02 -8.08804149e-03  2.86725492e-02\n",
      "  3.12102264e-02 -1.80826288e-03  4.34706500e-02 -2.74670808e-02\n",
      "  1.75553033e-05  5.26090097e-02  2.94668219e-03  2.86865750e-02\n",
      "  4.00751537e-02  1.24562175e-02 -1.42219236e-03  2.79883174e-03\n",
      "  7.73284839e-03 -3.57087322e-03  5.86091228e-03  8.12449273e-03\n",
      "  1.13207241e-02  3.15668833e-02  1.93678823e-02 -6.92503923e-03\n",
      "  2.22380067e-02  2.66194732e-02  9.43287471e-03 -8.73791921e-03\n",
      "  2.91969900e-03  2.29412381e-02  4.63730484e-03  1.77258121e-02\n",
      "  1.08203519e-02  9.99042258e-03  3.92412168e-02]\n",
      "MSE 0.019784367381377448\n"
     ]
    },
    {
     "name": "stderr",
     "output_type": "stream",
     "text": [
      "C:\\Users\\JM025575\\AppData\\Local\\Continuum\\anaconda3\\lib\\site-packages\\sklearn\\linear_model\\stochastic_gradient.py:128: FutureWarning: max_iter and tol parameters have been added in <class 'sklearn.linear_model.stochastic_gradient.SGDRegressor'> in 0.19. If both are left unset, they default to max_iter=5 and tol=None. If tol is not None, max_iter defaults to max_iter=1000. From 0.21, default max_iter will be 1000, and default tol will be 1e-3.\n",
      "  \"and default tol will be 1e-3.\" % type(self), FutureWarning)\n"
     ]
    }
   ],
   "source": [
    "# Basic SGD Regressor Model, l2 penalty \n",
    "model_SGD = SGDRegressor()\n",
    "model_SGD.fit(crime.features, crime.target)\n",
    "print(model_SGD)\n",
    "# make predictions\n",
    "expected_SGD = crime.target\n",
    "predicted_SGD = model_SGD.predict(crime.features)\n",
    "# summarize the fit of the model\n",
    "print(\"Coef\", model_SGD.intercept_, model_SGD.coef_)\n",
    "print(\"MSE\", mean_squared_error(expected_SGD, predicted_SGD))"
   ]
  },
  {
   "cell_type": "markdown",
   "metadata": {},
   "source": [
    "My first SGD Regressor model using all of the default parameter values, produced an MSE of 0.01978."
   ]
  },
  {
   "cell_type": "code",
   "execution_count": 155,
   "metadata": {},
   "outputs": [
    {
     "name": "stdout",
     "output_type": "stream",
     "text": [
      "SGDRegressor(alpha=0.01, average=False, epsilon=0.1, eta0=0.01,\n",
      "       fit_intercept=True, l1_ratio=0.15, learning_rate='invscaling',\n",
      "       loss='squared_loss', max_iter=None, n_iter=None, penalty='l1',\n",
      "       power_t=0.25, random_state=None, shuffle=True, tol=None, verbose=0,\n",
      "       warm_start=False)\n",
      "Coef [0.0876114] [ 0.          0.          0.11236818 -0.04802726  0.          0.\n",
      "  0.          0.          0.          0.          0.          0.02716932\n",
      "  0.          0.          0.          0.          0.          0.05405186\n",
      "  0.          0.          0.          0.          0.          0.\n",
      "  0.          0.          0.          0.03204841  0.          0.01641043\n",
      "  0.          0.01931893  0.          0.          0.          0.\n",
      "  0.          0.04121438  0.          0.04328078  0.04988087  0.\n",
      " -0.0081412  -0.02309844 -0.00303249  0.          0.          0.\n",
      "  0.          0.13249219  0.          0.          0.          0.\n",
      "  0.          0.          0.          0.          0.          0.\n",
      "  0.          0.          0.          0.          0.          0.\n",
      "  0.          0.02492174  0.02522899  0.          0.          0.\n",
      "  0.          0.02920702  0.          0.          0.02679103  0.\n",
      "  0.          0.          0.          0.          0.          0.\n",
      "  0.          0.          0.          0.          0.          0.\n",
      "  0.          0.          0.          0.          0.          0.\n",
      "  0.          0.          0.01483429]\n",
      "MSE 0.02470627008956334\n"
     ]
    },
    {
     "name": "stderr",
     "output_type": "stream",
     "text": [
      "C:\\Users\\JM025575\\AppData\\Local\\Continuum\\anaconda3\\lib\\site-packages\\sklearn\\linear_model\\stochastic_gradient.py:128: FutureWarning: max_iter and tol parameters have been added in <class 'sklearn.linear_model.stochastic_gradient.SGDRegressor'> in 0.19. If both are left unset, they default to max_iter=5 and tol=None. If tol is not None, max_iter defaults to max_iter=1000. From 0.21, default max_iter will be 1000, and default tol will be 1e-3.\n",
      "  \"and default tol will be 1e-3.\" % type(self), FutureWarning)\n"
     ]
    }
   ],
   "source": [
    "# SGD Regressor Model, adjusting penalty to l1 and alpha to 0.01\n",
    "model_SGD = SGDRegressor(alpha = 0.01, penalty = 'l1')\n",
    "model_SGD.fit(crime.features, crime.target)\n",
    "print(model_SGD)\n",
    "# make predictions\n",
    "expected_SGD = crime.target\n",
    "predicted_SGD = model_SGD.predict(crime.features)\n",
    "# summarize the fit of the model\n",
    "print(\"Coef\", model_SGD.intercept_, model_SGD.coef_)\n",
    "print(\"MSE\", mean_squared_error(expected_SGD, predicted_SGD))"
   ]
  },
  {
   "cell_type": "markdown",
   "metadata": {},
   "source": [
    "For my second model, I adjusted my alpha up to 0.01 from the default of 0.0001 and changed my penalty from the default L2 to L1. These changes caused my MSE to go up from the basic model to 0.0247."
   ]
  },
  {
   "cell_type": "code",
   "execution_count": 164,
   "metadata": {},
   "outputs": [
    {
     "name": "stdout",
     "output_type": "stream",
     "text": [
      "SGDRegressor(alpha=1e-05, average=False, epsilon=0.1, eta0=0.01,\n",
      "       fit_intercept=True, l1_ratio=0.15, learning_rate='invscaling',\n",
      "       loss='squared_loss', max_iter=None, n_iter=None, penalty='l1',\n",
      "       power_t=0.25, random_state=None, shuffle=True, tol=None, verbose=0,\n",
      "       warm_start=False)\n",
      "Coef [0.02440499] [ 2.36662663e-02  1.08056787e-03  1.11079553e-01 -6.87879884e-02\n",
      "  1.21457503e-03  7.67220874e-03 -3.86285276e-03 -2.32593748e-03\n",
      " -8.26058885e-03  1.92331425e-02  2.40447176e-02  4.70683271e-02\n",
      " -2.16559131e-03 -6.31983309e-03 -6.94729847e-03 -2.24211884e-02\n",
      "  1.77775977e-02  4.12271686e-02  4.93417367e-03 -4.77494412e-03\n",
      "  6.34105458e-03  2.14765393e-02 -4.51148688e-03 -3.67035540e-04\n",
      "  1.78466866e-02  1.39448773e-02  2.62127535e-02  2.72325363e-02\n",
      "  8.65799123e-03  2.58277373e-02 -2.30642567e-03  2.34518541e-02\n",
      "  1.28593091e-03 -9.83142883e-03  1.58301499e-03  9.65087739e-03\n",
      "  4.14385044e-03  5.96674274e-02  1.71410698e-02  5.40028174e-02\n",
      "  5.87026553e-02  1.24059369e-02 -4.65169537e-02 -5.39762308e-02\n",
      " -4.55234485e-02 -4.17758667e-02  1.08404107e-02 -1.03200058e-03\n",
      "  2.75770052e-02  9.43345335e-02  9.05984225e-03  9.91128145e-04\n",
      "  7.10232913e-04  5.93979281e-03  1.20786137e-02  2.51025070e-03\n",
      "  5.30439418e-03  8.99988621e-03  1.10890363e-02  2.26258379e-02\n",
      "  4.55795995e-05  2.11520402e-02  1.32654778e-02  6.27577402e-03\n",
      " -4.65535309e-03  2.13165732e-02 -8.14553286e-03  2.89786805e-02\n",
      "  3.02125356e-02 -3.22270540e-03  4.40995253e-02 -2.81919026e-02\n",
      "  0.00000000e+00  4.97320313e-02  2.26590948e-03  2.74706271e-02\n",
      "  4.01479964e-02  1.22230192e-02 -1.64492796e-03  2.18605898e-03\n",
      "  7.09070625e-03 -3.55321050e-03  5.25433401e-03  7.13910699e-03\n",
      "  1.03874884e-02  3.00289730e-02  1.92218291e-02 -9.17902507e-03\n",
      "  2.35292789e-02  2.71358971e-02  9.14229278e-03 -7.48680941e-03\n",
      "  3.17917695e-03  2.22839508e-02  5.41037239e-03  2.10532904e-02\n",
      "  1.12546833e-02  9.65716060e-03  3.65902853e-02]\n",
      "MSE 0.019095412605912167\n"
     ]
    },
    {
     "name": "stderr",
     "output_type": "stream",
     "text": [
      "C:\\Users\\JM025575\\AppData\\Local\\Continuum\\anaconda3\\lib\\site-packages\\sklearn\\linear_model\\stochastic_gradient.py:128: FutureWarning: max_iter and tol parameters have been added in <class 'sklearn.linear_model.stochastic_gradient.SGDRegressor'> in 0.19. If both are left unset, they default to max_iter=5 and tol=None. If tol is not None, max_iter defaults to max_iter=1000. From 0.21, default max_iter will be 1000, and default tol will be 1e-3.\n",
      "  \"and default tol will be 1e-3.\" % type(self), FutureWarning)\n"
     ]
    }
   ],
   "source": [
    "# SGD Regressor Model, adjusting penalty to l1 and alpha to 0.00001\n",
    "model_SGD = SGDRegressor(alpha = 0.00001, penalty = 'l1')\n",
    "model_SGD.fit(crime.features, crime.target)\n",
    "print(model_SGD)\n",
    "# make predictions\n",
    "expected_SGD = crime.target\n",
    "predicted_SGD = model_SGD.predict(crime.features)\n",
    "# summarize the fit of the model\n",
    "print(\"Coef\", model_SGD.intercept_, model_SGD.coef_)\n",
    "print(\"MSE\", mean_squared_error(expected_SGD, predicted_SGD))"
   ]
  },
  {
   "cell_type": "markdown",
   "metadata": {},
   "source": [
    "My third model kept my penalty at L1, but adjusted the alpha below the default value to 0.00001.  This lowered my MSE to 0.01909, which was my best SGD model yet."
   ]
  },
  {
   "cell_type": "markdown",
   "metadata": {},
   "source": [
    "## Grid Search to narrow down alpha with Cross Validation 10 Times"
   ]
  },
  {
   "cell_type": "code",
   "execution_count": 165,
   "metadata": {},
   "outputs": [
    {
     "name": "stdout",
     "output_type": "stream",
     "text": [
      "Best {'penalty': 'elasticnet'}\n"
     ]
    },
    {
     "name": "stderr",
     "output_type": "stream",
     "text": [
      "C:\\Users\\JM025575\\AppData\\Local\\Continuum\\anaconda3\\lib\\site-packages\\sklearn\\linear_model\\stochastic_gradient.py:128: FutureWarning: max_iter and tol parameters have been added in <class 'sklearn.linear_model.stochastic_gradient.SGDRegressor'> in 0.19. If both are left unset, they default to max_iter=5 and tol=None. If tol is not None, max_iter defaults to max_iter=1000. From 0.21, default max_iter will be 1000, and default tol will be 1e-3.\n",
      "  \"and default tol will be 1e-3.\" % type(self), FutureWarning)\n"
     ]
    }
   ],
   "source": [
    "# use a full grid over several parameters\n",
    "param_grid = {\"penalty\": ['none', 'l2', 'l1', 'elasticnet']}  #different penalties I am playing with\n",
    "\n",
    "# run grid search\n",
    "grid_search = GridSearchCV(model_SGD, param_grid=param_grid,n_jobs=-1, cv = 10)\n",
    "grid_search.fit(crime.features, crime.target)\n",
    "print(\"Best\", grid_search.best_params_) "
   ]
  },
  {
   "cell_type": "markdown",
   "metadata": {},
   "source": [
    "Next, I used a grid search using the 4 possible penalty values and a cross validation ten times to see which of the penalty values is best to use.  My result was that the best penalty to use is 'elasticnet'."
   ]
  },
  {
   "cell_type": "code",
   "execution_count": 168,
   "metadata": {},
   "outputs": [
    {
     "name": "stdout",
     "output_type": "stream",
     "text": [
      "SGDRegressor(alpha=1e-05, average=False, epsilon=0.1, eta0=0.01,\n",
      "       fit_intercept=True, l1_ratio=0.15, learning_rate='invscaling',\n",
      "       loss='squared_loss', max_iter=None, n_iter=None,\n",
      "       penalty='elasticnet', power_t=0.25, random_state=None, shuffle=True,\n",
      "       tol=None, verbose=0, warm_start=False)\n",
      "Coef [0.02359935] [ 0.02253122  0.0006861   0.11079761 -0.0680806   0.00065694  0.00768694\n",
      " -0.00568697 -0.00341933 -0.00947525  0.01953771  0.02283487  0.04834698\n",
      " -0.00217972 -0.00653952 -0.00813939 -0.02157164  0.01813252  0.04064194\n",
      "  0.00511009 -0.004651    0.00643762  0.02174853 -0.00408055  0.00046418\n",
      "  0.01807431  0.01498825  0.0256437   0.02617906  0.00867522  0.02562878\n",
      " -0.00288228  0.02205893  0.00180403 -0.01245598  0.00215429  0.00899576\n",
      "  0.00342779  0.06081988  0.0159269   0.05354806  0.05891996  0.01214231\n",
      " -0.0465784  -0.05368277 -0.04760003 -0.04109479  0.00975825 -0.00073252\n",
      "  0.02766847  0.09522178  0.00870417  0.00136837  0.00146916  0.00650692\n",
      "  0.01348518  0.00106012  0.00386296  0.00735111  0.00950092  0.02268259\n",
      " -0.00149538  0.02166637  0.01390477  0.00640075 -0.00476799  0.02221993\n",
      " -0.00919278  0.02897028  0.03017863 -0.00135022  0.04188863 -0.02886251\n",
      " -0.00072593  0.05094391  0.00321321  0.02740743  0.03997517  0.01209301\n",
      " -0.00202187  0.00202465  0.00691638 -0.00372128  0.00572631  0.00790653\n",
      "  0.01132218  0.02908374  0.01907211 -0.00877342  0.02394685  0.02838207\n",
      "  0.00763932 -0.00762339  0.00245849  0.02166754  0.00485728  0.01748667\n",
      "  0.00918716  0.01075184  0.04036044]\n",
      "MSE 0.019078810612974607\n"
     ]
    },
    {
     "name": "stderr",
     "output_type": "stream",
     "text": [
      "C:\\Users\\JM025575\\AppData\\Local\\Continuum\\anaconda3\\lib\\site-packages\\sklearn\\linear_model\\stochastic_gradient.py:128: FutureWarning: max_iter and tol parameters have been added in <class 'sklearn.linear_model.stochastic_gradient.SGDRegressor'> in 0.19. If both are left unset, they default to max_iter=5 and tol=None. If tol is not None, max_iter defaults to max_iter=1000. From 0.21, default max_iter will be 1000, and default tol will be 1e-3.\n",
      "  \"and default tol will be 1e-3.\" % type(self), FutureWarning)\n"
     ]
    }
   ],
   "source": [
    "# SGD Regressor Model, adjusting penalty 'none' based on the grid search results and cross validation\n",
    "model_SGD = SGDRegressor(alpha = 0.00001, penalty = 'elasticnet')\n",
    "model_SGD.fit(crime.features, crime.target)\n",
    "print(model_SGD)\n",
    "# make predictions\n",
    "expected_SGD = crime.target\n",
    "predicted_SGD = model_SGD.predict(crime.features)\n",
    "# summarize the fit of the model\n",
    "print(\"Coef\", model_SGD.intercept_, model_SGD.coef_)\n",
    "print(\"MSE\", mean_squared_error(expected_SGD, predicted_SGD))"
   ]
  },
  {
   "cell_type": "markdown",
   "metadata": {},
   "source": [
    "Finally, I used the result from my grid search and cross validation and paired that with the lowest alpha I had used and ended up getting my lowest MSE yet with this model, 0.01907."
   ]
  },
  {
   "cell_type": "markdown",
   "metadata": {},
   "source": [
    "# Hold for explanation of what best model is and why"
   ]
  },
  {
   "cell_type": "markdown",
   "metadata": {},
   "source": [
    "After reviewing my 4 different Ridge, Lasso, ElasticNet, and SGD Regressor, the best model I would say that my best model was my third Ridge Regression model, where I used an alpha of 0.5 and got a MSE of 0.0167.  I got various other MSE values that came close to that after tuning those models in various ways and using grid search and cross validation to more efficiently search for my best alpha and penalty values.  However, based solely on the lowest MSE, my Ridge Regression Model with the alpha of 0.5 is my best performing model."
   ]
  }
 ],
 "metadata": {
  "kernelspec": {
   "display_name": "Python 3",
   "language": "python",
   "name": "python3"
  },
  "language_info": {
   "codemirror_mode": {
    "name": "ipython",
    "version": 3
   },
   "file_extension": ".py",
   "mimetype": "text/x-python",
   "name": "python",
   "nbconvert_exporter": "python",
   "pygments_lexer": "ipython3",
   "version": "3.6.4"
  }
 },
 "nbformat": 4,
 "nbformat_minor": 2
}
